{
  "nbformat": 4,
  "nbformat_minor": 0,
  "metadata": {
    "colab": {
      "provenance": [],
      "authorship_tag": "ABX9TyNZu3lnZvW69/ASAGvXrT/N",
      "include_colab_link": true
    },
    "kernelspec": {
      "name": "python3",
      "display_name": "Python 3"
    },
    "language_info": {
      "name": "python"
    }
  },
  "cells": [
    {
      "cell_type": "markdown",
      "metadata": {
        "id": "view-in-github",
        "colab_type": "text"
      },
      "source": [
        "<a href=\"https://colab.research.google.com/github/namozhdehi/DS_HW/blob/main/Unit%2017%20Exploratory%20Data%20Analysis%20(EDA)%20in%20Python.ipynb\" target=\"_parent\"><img src=\"https://colab.research.google.com/assets/colab-badge.svg\" alt=\"Open In Colab\"/></a>"
      ]
    },
    {
      "cell_type": "markdown",
      "source": [
        "# **Unit 17**\n",
        "# **Exploratory Data Analysis (EDA) in Python**"
      ],
      "metadata": {
        "id": "C8MgDH_uD0ga"
      }
    },
    {
      "cell_type": "markdown",
      "source": [
        "# Data Summarization"
      ],
      "metadata": {
        "id": "uVjRjmEAB2gd"
      }
    },
    {
      "cell_type": "code",
      "source": [
        "import numpy as np\n",
        "import seaborn as sns\n",
        "import matplotlib.pyplot as plt\n",
        "import pandas as pd\n",
        "\n",
        "df_dict = {'country_code': {0: 'AFG', 1: 'AGO', 2: 'ALB', 3: 'ARE', 4: 'ARG'},\n",
        " 'country_name': {0: 'Afghanistan',\n",
        "  1: 'Angola',\n",
        "  2: 'Albania',\n",
        "  3: 'United Arab Emirates',\n",
        "  4: 'Argentina'},\n",
        " 'continent': {0: 'Asia',\n",
        "  1: 'Africa',\n",
        "  2: 'Europe',\n",
        "  3: 'Asia',\n",
        "  4: 'South America'},\n",
        " '2010': {0: 11.35, 1: 9.43, 2: 14.09, 3: 2.48, 4: 7.71},\n",
        " '2011': {0: 11.05, 1: 7.36, 2: 13.48, 3: 2.3, 4: 7.18},\n",
        " '2012': {0: 11.34, 1: 7.35, 2: 13.38, 3: 2.18, 4: 7.22},\n",
        " '2013': {0: 11.19, 1: 7.37, 2: 15.87, 3: 2.04, 4: 7.1},\n",
        " '2014': {0: 11.14, 1: 7.37, 2: 18.05, 3: 1.91, 4: 7.27},\n",
        " '2015': {0: 11.13, 1: 7.39, 2: 17.19, 3: 1.77, 4: 7.52},\n",
        " '2016': {0: 11.16, 1: 7.41, 2: 15.42, 3: 1.64, 4: 8.11},\n",
        " '2017': {0: 11.18, 1: 7.41, 2: 13.62, 3: 2.46, 4: 8.35},\n",
        " '2018': {0: 11.15, 1: 7.42, 2: 12.3, 3: 2.35, 4: 9.22},\n",
        " '2019': {0: 11.22, 1: 7.42, 2: 11.47, 3: 2.23, 4: 9.84},\n",
        " '2020': {0: 11.71, 1: 8.33, 2: 13.33, 3: 3.19, 4: 11.46},\n",
        " '2021': {0: 13.28, 1: 8.53, 2: 11.82, 3: 3.36, 4: 10.9}}\n",
        "\n",
        "unemployment = pd.DataFrame(df_dict)"
      ],
      "metadata": {
        "id": "ROL5dsk4DxTE"
      },
      "execution_count": 2,
      "outputs": []
    },
    {
      "cell_type": "code",
      "source": [
        "# Print the first five rows of unemployment\n",
        "print(unemployment.head())"
      ],
      "metadata": {
        "colab": {
          "base_uri": "https://localhost:8080/"
        },
        "id": "kGYFd20eKloW",
        "outputId": "950b01e1-d7c1-4a63-e211-d74f43c4c577"
      },
      "execution_count": 3,
      "outputs": [
        {
          "output_type": "stream",
          "name": "stdout",
          "text": [
            "  country_code          country_name      continent   2010   2011   2012  \\\n",
            "0          AFG           Afghanistan           Asia  11.35  11.05  11.34   \n",
            "1          AGO                Angola         Africa   9.43   7.36   7.35   \n",
            "2          ALB               Albania         Europe  14.09  13.48  13.38   \n",
            "3          ARE  United Arab Emirates           Asia   2.48   2.30   2.18   \n",
            "4          ARG             Argentina  South America   7.71   7.18   7.22   \n",
            "\n",
            "    2013   2014   2015   2016   2017   2018   2019   2020   2021  \n",
            "0  11.19  11.14  11.13  11.16  11.18  11.15  11.22  11.71  13.28  \n",
            "1   7.37   7.37   7.39   7.41   7.41   7.42   7.42   8.33   8.53  \n",
            "2  15.87  18.05  17.19  15.42  13.62  12.30  11.47  13.33  11.82  \n",
            "3   2.04   1.91   1.77   1.64   2.46   2.35   2.23   3.19   3.36  \n",
            "4   7.10   7.27   7.52   8.11   8.35   9.22   9.84  11.46  10.90  \n"
          ]
        }
      ]
    },
    {
      "cell_type": "code",
      "execution_count": 4,
      "metadata": {
        "colab": {
          "base_uri": "https://localhost:8080/"
        },
        "id": "xacEkPHoDcpE",
        "outputId": "d4728380-4c14-4471-f020-bea5db6865c5"
      },
      "outputs": [
        {
          "output_type": "stream",
          "name": "stdout",
          "text": [
            "<class 'pandas.core.frame.DataFrame'>\n",
            "Index: 5 entries, 0 to 4\n",
            "Data columns (total 15 columns):\n",
            " #   Column        Non-Null Count  Dtype  \n",
            "---  ------        --------------  -----  \n",
            " 0   country_code  5 non-null      object \n",
            " 1   country_name  5 non-null      object \n",
            " 2   continent     5 non-null      object \n",
            " 3   2010          5 non-null      float64\n",
            " 4   2011          5 non-null      float64\n",
            " 5   2012          5 non-null      float64\n",
            " 6   2013          5 non-null      float64\n",
            " 7   2014          5 non-null      float64\n",
            " 8   2015          5 non-null      float64\n",
            " 9   2016          5 non-null      float64\n",
            " 10  2017          5 non-null      float64\n",
            " 11  2018          5 non-null      float64\n",
            " 12  2019          5 non-null      float64\n",
            " 13  2020          5 non-null      float64\n",
            " 14  2021          5 non-null      float64\n",
            "dtypes: float64(12), object(3)\n",
            "memory usage: 640.0+ bytes\n",
            "None\n"
          ]
        }
      ],
      "source": [
        "# Print a summary of non-missing values and data types in the unemployment DataFrame\n",
        "print(unemployment.info())"
      ]
    },
    {
      "cell_type": "code",
      "source": [
        "# Print summary statistics for numerical columns in unemployment\n",
        "print(unemployment.describe())"
      ],
      "metadata": {
        "colab": {
          "base_uri": "https://localhost:8080/"
        },
        "id": "6jRmO4_nLOw4",
        "outputId": "45f75004-dcc3-467f-aeaf-811ca6e49c0a"
      },
      "execution_count": 5,
      "outputs": [
        {
          "output_type": "stream",
          "name": "stdout",
          "text": [
            "            2010       2011       2012       2013       2014       2015  \\\n",
            "count   5.000000   5.000000   5.000000   5.000000   5.000000   5.000000   \n",
            "mean    9.012000   8.274000   8.294000   8.714000   9.148000   9.000000   \n",
            "std     4.352852   4.258213   4.317729   5.154913   5.964279   5.671605   \n",
            "min     2.480000   2.300000   2.180000   2.040000   1.910000   1.770000   \n",
            "25%     7.710000   7.180000   7.220000   7.100000   7.270000   7.390000   \n",
            "50%     9.430000   7.360000   7.350000   7.370000   7.370000   7.520000   \n",
            "75%    11.350000  11.050000  11.340000  11.190000  11.140000  11.130000   \n",
            "max    14.090000  13.480000  13.380000  15.870000  18.050000  17.190000   \n",
            "\n",
            "            2016       2017       2018       2019       2020      2021  \n",
            "count   5.000000   5.000000   5.000000   5.000000   5.000000   5.00000  \n",
            "mean    8.748000   8.604000   8.488000   8.436000   9.604000   9.57800  \n",
            "std     5.075783   4.214111   3.904135   3.823406   4.016389   3.88075  \n",
            "min     1.640000   2.460000   2.350000   2.230000   3.190000   3.36000  \n",
            "25%     7.410000   7.410000   7.420000   7.420000   8.330000   8.53000  \n",
            "50%     8.110000   8.350000   9.220000   9.840000  11.460000  10.90000  \n",
            "75%    11.160000  11.180000  11.150000  11.220000  11.710000  11.82000  \n",
            "max    15.420000  13.620000  12.300000  11.470000  13.330000  13.28000  \n"
          ]
        }
      ]
    },
    {
      "cell_type": "code",
      "source": [
        "# Count the values associated with each continent in unemployment\n",
        "print(unemployment['continent'].value_counts())"
      ],
      "metadata": {
        "colab": {
          "base_uri": "https://localhost:8080/"
        },
        "id": "DvfT2V9oOP3c",
        "outputId": "a0924d5f-6be3-447e-de45-301bd0c45ef1"
      },
      "execution_count": 6,
      "outputs": [
        {
          "output_type": "stream",
          "name": "stdout",
          "text": [
            "continent\n",
            "Asia             2\n",
            "Africa           1\n",
            "Europe           1\n",
            "South America    1\n",
            "Name: count, dtype: int64\n"
          ]
        }
      ]
    },
    {
      "cell_type": "code",
      "source": [
        "# Import the required visualization libraries\n",
        "import seaborn as sns\n",
        "import matplotlib.pyplot as plt\n",
        "\n",
        "# Create a histogram of 2021 unemployment; show a full percent in each bin\n",
        "sns.histplot(data=unemployment, x='2021', bins=100, binwidth=1)\n",
        "plt.show()"
      ],
      "metadata": {
        "colab": {
          "base_uri": "https://localhost:8080/",
          "height": 449
        },
        "id": "sY8QvevkOPuy",
        "outputId": "38316ff2-6037-49d6-8555-401cf1ca8dd2"
      },
      "execution_count": 7,
      "outputs": [
        {
          "output_type": "display_data",
          "data": {
            "text/plain": [
              "<Figure size 640x480 with 1 Axes>"
            ],
            "image/png": "[encoded data removed]"
          },
          "metadata": {}
        }
      ]
    },
    {
      "cell_type": "code",
      "source": [
        "# Update the data type of the 2019 column to a float\n",
        "unemployment[\"2019\"] = unemployment[\"2019\"].astype(float)\n",
        "# Print the dtypes to check your work\n",
        "print(unemployment.dtypes)"
      ],
      "metadata": {
        "colab": {
          "base_uri": "https://localhost:8080/"
        },
        "id": "LsPN0FMDOPrZ",
        "outputId": "44f80336-9495-48b1-f6ae-22018d37b05b"
      },
      "execution_count": 8,
      "outputs": [
        {
          "output_type": "stream",
          "name": "stdout",
          "text": [
            "country_code     object\n",
            "country_name     object\n",
            "continent        object\n",
            "2010            float64\n",
            "2011            float64\n",
            "2012            float64\n",
            "2013            float64\n",
            "2014            float64\n",
            "2015            float64\n",
            "2016            float64\n",
            "2017            float64\n",
            "2018            float64\n",
            "2019            float64\n",
            "2020            float64\n",
            "2021            float64\n",
            "dtype: object\n"
          ]
        }
      ]
    },
    {
      "cell_type": "code",
      "source": [
        "# Define a Series describing whether each continent is outside of Oceania\n",
        "not_oceania = ~unemployment['continent'].isin(['Oceania'])\n",
        "not_oceania"
      ],
      "metadata": {
        "colab": {
          "base_uri": "https://localhost:8080/"
        },
        "id": "gOIgSDiKOPok",
        "outputId": "08970c41-8fc0-49c6-f4c4-2b4e7cb694f8"
      },
      "execution_count": 9,
      "outputs": [
        {
          "output_type": "execute_result",
          "data": {
            "text/plain": [
              "0    True\n",
              "1    True\n",
              "2    True\n",
              "3    True\n",
              "4    True\n",
              "Name: continent, dtype: bool"
            ]
          },
          "metadata": {},
          "execution_count": 9
        }
      ]
    },
    {
      "cell_type": "code",
      "source": [
        "# Define a Series describing whether each continent is outside of Oceania\n",
        "not_oceania = ~unemployment[\"continent\"].isin([\"Oceania\"])\n",
        "\n",
        "# Print unemployment without records related to countries in Oceania\n",
        "print(unemployment[not_oceania])"
      ],
      "metadata": {
        "colab": {
          "base_uri": "https://localhost:8080/"
        },
        "id": "fAHLVFkbOPla",
        "outputId": "a06e2fe6-4a4f-4688-f139-8de44abe2d64"
      },
      "execution_count": 10,
      "outputs": [
        {
          "output_type": "stream",
          "name": "stdout",
          "text": [
            "  country_code          country_name      continent   2010   2011   2012  \\\n",
            "0          AFG           Afghanistan           Asia  11.35  11.05  11.34   \n",
            "1          AGO                Angola         Africa   9.43   7.36   7.35   \n",
            "2          ALB               Albania         Europe  14.09  13.48  13.38   \n",
            "3          ARE  United Arab Emirates           Asia   2.48   2.30   2.18   \n",
            "4          ARG             Argentina  South America   7.71   7.18   7.22   \n",
            "\n",
            "    2013   2014   2015   2016   2017   2018   2019   2020   2021  \n",
            "0  11.19  11.14  11.13  11.16  11.18  11.15  11.22  11.71  13.28  \n",
            "1   7.37   7.37   7.39   7.41   7.41   7.42   7.42   8.33   8.53  \n",
            "2  15.87  18.05  17.19  15.42  13.62  12.30  11.47  13.33  11.82  \n",
            "3   2.04   1.91   1.77   1.64   2.46   2.35   2.23   3.19   3.36  \n",
            "4   7.10   7.27   7.52   8.11   8.35   9.22   9.84  11.46  10.90  \n"
          ]
        }
      ]
    },
    {
      "cell_type": "code",
      "source": [
        "# Print the minimum and maximum unemployment rates during 2021\n",
        "print(unemployment['2021'].min() , unemployment['2021'].max())\n",
        "\n",
        "# Create a boxplot of 2021 unemployment rates, broken down by continent\n",
        "sns.boxplot(x='continent', y='2021', data=unemployment)\n",
        "plt.show()"
      ],
      "metadata": {
        "colab": {
          "base_uri": "https://localhost:8080/",
          "height": 466
        },
        "id": "Ck5pfvoaBePS",
        "outputId": "7c17026c-7dfa-40dd-f10b-aacb020d682e"
      },
      "execution_count": 11,
      "outputs": [
        {
          "output_type": "stream",
          "name": "stdout",
          "text": [
            "3.36 13.28\n"
          ]
        },
        {
          "output_type": "display_data",
          "data": {
            "text/plain": [
              "<Figure size 640x480 with 1 Axes>"
            ],
            "image/png": "[encoded data removed]"
          },
          "metadata": {}
        }
      ]
    },
    {
      "cell_type": "code",
      "source": [
        "import pandas as pd\n",
        "\n",
        "df_dict = {\n",
        " '2010': {0: 11.35, 1: 9.43, 2: 14.09, 3: 2.48, 4: 7.71},\n",
        " '2011': {0: 11.05, 1: 7.36, 2: 13.48, 3: 2.3, 4: 7.18},\n",
        " '2012': {0: 11.34, 1: 7.35, 2: 13.38, 3: 2.18, 4: 7.22},\n",
        " '2013': {0: 11.19, 1: 7.37, 2: 15.87, 3: 2.04, 4: 7.1},\n",
        " '2014': {0: 11.14, 1: 7.37, 2: 18.05, 3: 1.91, 4: 7.27},\n",
        " '2015': {0: 11.13, 1: 7.39, 2: 17.19, 3: 1.77, 4: 7.52},\n",
        " '2016': {0: 11.16, 1: 7.41, 2: 15.42, 3: 1.64, 4: 8.11},\n",
        " '2017': {0: 11.18, 1: 7.41, 2: 13.62, 3: 2.46, 4: 8.35},\n",
        " '2018': {0: 11.15, 1: 7.42, 2: 12.3, 3: 2.35, 4: 9.22},\n",
        " '2019': {0: 11.22, 1: 7.42, 2: 11.47, 3: 2.23, 4: 9.84},\n",
        " '2020': {0: 11.71, 1: 8.33, 2: 13.33, 3: 3.19, 4: 11.46},\n",
        " '2021': {0: 13.28, 1: 8.53, 2: 11.82, 3: 3.36, 4: 10.9}}\n",
        "\n",
        "unemployment = pd.DataFrame(df_dict)"
      ],
      "metadata": {
        "id": "xUE6dReRGLYE"
      },
      "execution_count": 12,
      "outputs": []
    },
    {
      "cell_type": "code",
      "source": [
        "# Print the mean and standard deviation of rates by year\n",
        "print(unemployment.agg(['mean', 'std']))"
      ],
      "metadata": {
        "colab": {
          "base_uri": "https://localhost:8080/"
        },
        "id": "SDm0fMZmBeMP",
        "outputId": "8b1103a5-f0e8-4402-b2ca-e01d96067433"
      },
      "execution_count": 13,
      "outputs": [
        {
          "output_type": "stream",
          "name": "stdout",
          "text": [
            "          2010      2011      2012      2013      2014      2015      2016  \\\n",
            "mean  9.012000  8.274000  8.294000  8.714000  9.148000  9.000000  8.748000   \n",
            "std   4.352852  4.258213  4.317729  5.154913  5.964279  5.671605  5.075783   \n",
            "\n",
            "          2017      2018      2019      2020     2021  \n",
            "mean  8.604000  8.488000  8.436000  9.604000  9.57800  \n",
            "std   4.214111  3.904135  3.823406  4.016389  3.88075  \n"
          ]
        }
      ]
    },
    {
      "cell_type": "code",
      "source": [
        "import pandas as pd\n",
        "\n",
        "df_dict = {\n",
        " 'continent': {0: 'Asia',\n",
        "  1: 'Africa',\n",
        "  2: 'Europe',\n",
        "  3: 'Asia',\n",
        "  4: 'South America'},\n",
        " '2010': {0: 11.35, 1: 9.43, 2: 14.09, 3: 2.48, 4: 7.71},\n",
        " '2011': {0: 11.05, 1: 7.36, 2: 13.48, 3: 2.3, 4: 7.18},\n",
        " '2012': {0: 11.34, 1: 7.35, 2: 13.38, 3: 2.18, 4: 7.22},\n",
        " '2013': {0: 11.19, 1: 7.37, 2: 15.87, 3: 2.04, 4: 7.1},\n",
        " '2014': {0: 11.14, 1: 7.37, 2: 18.05, 3: 1.91, 4: 7.27},\n",
        " '2015': {0: 11.13, 1: 7.39, 2: 17.19, 3: 1.77, 4: 7.52},\n",
        " '2016': {0: 11.16, 1: 7.41, 2: 15.42, 3: 1.64, 4: 8.11},\n",
        " '2017': {0: 11.18, 1: 7.41, 2: 13.62, 3: 2.46, 4: 8.35},\n",
        " '2018': {0: 11.15, 1: 7.42, 2: 12.3, 3: 2.35, 4: 9.22},\n",
        " '2019': {0: 11.22, 1: 7.42, 2: 11.47, 3: 2.23, 4: 9.84},\n",
        " '2020': {0: 11.71, 1: 8.33, 2: 13.33, 3: 3.19, 4: 11.46},\n",
        " '2021': {0: 13.28, 1: 8.53, 2: 11.82, 3: 3.36, 4: 10.9}}\n",
        "\n",
        "unemployment = pd.DataFrame(df_dict)"
      ],
      "metadata": {
        "id": "bOTylgIBBeE1"
      },
      "execution_count": 14,
      "outputs": []
    },
    {
      "cell_type": "code",
      "source": [
        "unemployment"
      ],
      "metadata": {
        "colab": {
          "base_uri": "https://localhost:8080/",
          "height": 206
        },
        "id": "ohbbrhMtHHsT",
        "outputId": "1662144d-6edb-4ecc-8512-7732ec73d148"
      },
      "execution_count": 15,
      "outputs": [
        {
          "output_type": "execute_result",
          "data": {
            "text/plain": [
              "       continent   2010   2011   2012   2013   2014   2015   2016   2017  \\\n",
              "0           Asia  11.35  11.05  11.34  11.19  11.14  11.13  11.16  11.18   \n",
              "1         Africa   9.43   7.36   7.35   7.37   7.37   7.39   7.41   7.41   \n",
              "2         Europe  14.09  13.48  13.38  15.87  18.05  17.19  15.42  13.62   \n",
              "3           Asia   2.48   2.30   2.18   2.04   1.91   1.77   1.64   2.46   \n",
              "4  South America   7.71   7.18   7.22   7.10   7.27   7.52   8.11   8.35   \n",
              "\n",
              "    2018   2019   2020   2021  \n",
              "0  11.15  11.22  11.71  13.28  \n",
              "1   7.42   7.42   8.33   8.53  \n",
              "2  12.30  11.47  13.33  11.82  \n",
              "3   2.35   2.23   3.19   3.36  \n",
              "4   9.22   9.84  11.46  10.90  "
            ],
            "text/html": [
              "\n",
              "  <div id=\"df-360479a0-ba55-4a07-8183-f7fceb690459\" class=\"colab-df-container\">\n",
              "    <div>\n",
              "<style scoped>\n",
              "    .dataframe tbody tr th:only-of-type {\n",
              "        vertical-align: middle;\n",
              "    }\n",
              "\n",
              "    .dataframe tbody tr th {\n",
              "        vertical-align: top;\n",
              "    }\n",
              "\n",
              "    .dataframe thead th {\n",
              "        text-align: right;\n",
              "    }\n",
              "</style>\n",
              "<table border=\"1\" class=\"dataframe\">\n",
              "  <thead>\n",
              "    <tr style=\"text-align: right;\">\n",
              "      <th></th>\n",
              "      <th>continent</th>\n",
              "      <th>2010</th>\n",
              "      <th>2011</th>\n",
              "      <th>2012</th>\n",
              "      <th>2013</th>\n",
              "      <th>2014</th>\n",
              "      <th>2015</th>\n",
              "      <th>2016</th>\n",
              "      <th>2017</th>\n",
              "      <th>2018</th>\n",
              "      <th>2019</th>\n",
              "      <th>2020</th>\n",
              "      <th>2021</th>\n",
              "    </tr>\n",
              "  </thead>\n",
              "  <tbody>\n",
              "    <tr>\n",
              "      <th>0</th>\n",
              "      <td>Asia</td>\n",
              "      <td>11.35</td>\n",
              "      <td>11.05</td>\n",
              "      <td>11.34</td>\n",
              "      <td>11.19</td>\n",
              "      <td>11.14</td>\n",
              "      <td>11.13</td>\n",
              "      <td>11.16</td>\n",
              "      <td>11.18</td>\n",
              "      <td>11.15</td>\n",
              "      <td>11.22</td>\n",
              "      <td>11.71</td>\n",
              "      <td>13.28</td>\n",
              "    </tr>\n",
              "    <tr>\n",
              "      <th>1</th>\n",
              "      <td>Africa</td>\n",
              "      <td>9.43</td>\n",
              "      <td>7.36</td>\n",
              "      <td>7.35</td>\n",
              "      <td>7.37</td>\n",
              "      <td>7.37</td>\n",
              "      <td>7.39</td>\n",
              "      <td>7.41</td>\n",
              "      <td>7.41</td>\n",
              "      <td>7.42</td>\n",
              "      <td>7.42</td>\n",
              "      <td>8.33</td>\n",
              "      <td>8.53</td>\n",
              "    </tr>\n",
              "    <tr>\n",
              "      <th>2</th>\n",
              "      <td>Europe</td>\n",
              "      <td>14.09</td>\n",
              "      <td>13.48</td>\n",
              "      <td>13.38</td>\n",
              "      <td>15.87</td>\n",
              "      <td>18.05</td>\n",
              "      <td>17.19</td>\n",
              "      <td>15.42</td>\n",
              "      <td>13.62</td>\n",
              "      <td>12.30</td>\n",
              "      <td>11.47</td>\n",
              "      <td>13.33</td>\n",
              "      <td>11.82</td>\n",
              "    </tr>\n",
              "    <tr>\n",
              "      <th>3</th>\n",
              "      <td>Asia</td>\n",
              "      <td>2.48</td>\n",
              "      <td>2.30</td>\n",
              "      <td>2.18</td>\n",
              "      <td>2.04</td>\n",
              "      <td>1.91</td>\n",
              "      <td>1.77</td>\n",
              "      <td>1.64</td>\n",
              "      <td>2.46</td>\n",
              "      <td>2.35</td>\n",
              "      <td>2.23</td>\n",
              "      <td>3.19</td>\n",
              "      <td>3.36</td>\n",
              "    </tr>\n",
              "    <tr>\n",
              "      <th>4</th>\n",
              "      <td>South America</td>\n",
              "      <td>7.71</td>\n",
              "      <td>7.18</td>\n",
              "      <td>7.22</td>\n",
              "      <td>7.10</td>\n",
              "      <td>7.27</td>\n",
              "      <td>7.52</td>\n",
              "      <td>8.11</td>\n",
              "      <td>8.35</td>\n",
              "      <td>9.22</td>\n",
              "      <td>9.84</td>\n",
              "      <td>11.46</td>\n",
              "      <td>10.90</td>\n",
              "    </tr>\n",
              "  </tbody>\n",
              "</table>\n",
              "</div>\n",
              "    <div class=\"colab-df-buttons\">\n",
              "\n",
              "  <div class=\"colab-df-container\">\n",
              "    <button class=\"colab-df-convert\" onclick=\"convertToInteractive('df-360479a0-ba55-4a07-8183-f7fceb690459')\"\n",
              "            title=\"Convert this dataframe to an interactive table.\"\n",
              "            style=\"display:none;\">\n",
              "\n",
              "  <svg xmlns=\"http://www.w3.org/2000/svg\" height=\"24px\" viewBox=\"0 -960 960 960\">\n",
              "    <path d=\"M120-120v-720h720v720H120Zm60-500h600v-160H180v160Zm220 220h160v-160H400v160Zm0 220h160v-160H400v160ZM180-400h160v-160H180v160Zm440 0h160v-160H620v160ZM180-180h160v-160H180v160Zm440 0h160v-160H620v160Z\"/>\n",
              "  </svg>\n",
              "    </button>\n",
              "\n",
              "  <style>\n",
              "    .colab-df-container {\n",
              "      display:flex;\n",
              "      gap: 12px;\n",
              "    }\n",
              "\n",
              "    .colab-df-convert {\n",
              "      background-color: #E8F0FE;\n",
              "      border: none;\n",
              "      border-radius: 50%;\n",
              "      cursor: pointer;\n",
              "      display: none;\n",
              "      fill: #1967D2;\n",
              "      height: 32px;\n",
              "      padding: 0 0 0 0;\n",
              "      width: 32px;\n",
              "    }\n",
              "\n",
              "    .colab-df-convert:hover {\n",
              "      background-color: #E2EBFA;\n",
              "      box-shadow: 0px 1px 2px rgba(60, 64, 67, 0.3), 0px 1px 3px 1px rgba(60, 64, 67, 0.15);\n",
              "      fill: #174EA6;\n",
              "    }\n",
              "\n",
              "    .colab-df-buttons div {\n",
              "      margin-bottom: 4px;\n",
              "    }\n",
              "\n",
              "    [theme=dark] .colab-df-convert {\n",
              "      background-color: #3B4455;\n",
              "      fill: #D2E3FC;\n",
              "    }\n",
              "\n",
              "    [theme=dark] .colab-df-convert:hover {\n",
              "      background-color: #434B5C;\n",
              "      box-shadow: 0px 1px 3px 1px rgba(0, 0, 0, 0.15);\n",
              "      filter: drop-shadow(0px 1px 2px rgba(0, 0, 0, 0.3));\n",
              "      fill: #FFFFFF;\n",
              "    }\n",
              "  </style>\n",
              "\n",
              "    <script>\n",
              "      const buttonEl =\n",
              "        document.querySelector('#df-360479a0-ba55-4a07-8183-f7fceb690459 button.colab-df-convert');\n",
              "      buttonEl.style.display =\n",
              "        google.colab.kernel.accessAllowed ? 'block' : 'none';\n",
              "\n",
              "      async function convertToInteractive(key) {\n",
              "        const element = document.querySelector('#df-360479a0-ba55-4a07-8183-f7fceb690459');\n",
              "        const dataTable =\n",
              "          await google.colab.kernel.invokeFunction('convertToInteractive',\n",
              "                                                    [key], {});\n",
              "        if (!dataTable) return;\n",
              "\n",
              "        const docLinkHtml = 'Like what you see? Visit the ' +\n",
              "          '<a target=\"_blank\" href=https://colab.research.google.com/notebooks/data_table.ipynb>data table notebook</a>'\n",
              "          + ' to learn more about interactive tables.';\n",
              "        element.innerHTML = '';\n",
              "        dataTable['output_type'] = 'display_data';\n",
              "        await google.colab.output.renderOutput(dataTable, element);\n",
              "        const docLink = document.createElement('div');\n",
              "        docLink.innerHTML = docLinkHtml;\n",
              "        element.appendChild(docLink);\n",
              "      }\n",
              "    </script>\n",
              "  </div>\n",
              "\n",
              "\n",
              "<div id=\"df-f7f08521-78d5-4e51-932c-29fae93173c2\">\n",
              "  <button class=\"colab-df-quickchart\" onclick=\"quickchart('df-f7f08521-78d5-4e51-932c-29fae93173c2')\"\n",
              "            title=\"Suggest charts\"\n",
              "            style=\"display:none;\">\n",
              "\n",
              "<svg xmlns=\"http://www.w3.org/2000/svg\" height=\"24px\"viewBox=\"0 0 24 24\"\n",
              "     width=\"24px\">\n",
              "    <g>\n",
              "        <path d=\"M19 3H5c-1.1 0-2 .9-2 2v14c0 1.1.9 2 2 2h14c1.1 0 2-.9 2-2V5c0-1.1-.9-2-2-2zM9 17H7v-7h2v7zm4 0h-2V7h2v10zm4 0h-2v-4h2v4z\"/>\n",
              "    </g>\n",
              "</svg>\n",
              "  </button>\n",
              "\n",
              "<style>\n",
              "  .colab-df-quickchart {\n",
              "      --bg-color: #E8F0FE;\n",
              "      --fill-color: #1967D2;\n",
              "      --hover-bg-color: #E2EBFA;\n",
              "      --hover-fill-color: #174EA6;\n",
              "      --disabled-fill-color: #AAA;\n",
              "      --disabled-bg-color: #DDD;\n",
              "  }\n",
              "\n",
              "  [theme=dark] .colab-df-quickchart {\n",
              "      --bg-color: #3B4455;\n",
              "      --fill-color: #D2E3FC;\n",
              "      --hover-bg-color: #434B5C;\n",
              "      --hover-fill-color: #FFFFFF;\n",
              "      --disabled-bg-color: #3B4455;\n",
              "      --disabled-fill-color: #666;\n",
              "  }\n",
              "\n",
              "  .colab-df-quickchart {\n",
              "    background-color: var(--bg-color);\n",
              "    border: none;\n",
              "    border-radius: 50%;\n",
              "    cursor: pointer;\n",
              "    display: none;\n",
              "    fill: var(--fill-color);\n",
              "    height: 32px;\n",
              "    padding: 0;\n",
              "    width: 32px;\n",
              "  }\n",
              "\n",
              "  .colab-df-quickchart:hover {\n",
              "    background-color: var(--hover-bg-color);\n",
              "    box-shadow: 0 1px 2px rgba(60, 64, 67, 0.3), 0 1px 3px 1px rgba(60, 64, 67, 0.15);\n",
              "    fill: var(--button-hover-fill-color);\n",
              "  }\n",
              "\n",
              "  .colab-df-quickchart-complete:disabled,\n",
              "  .colab-df-quickchart-complete:disabled:hover {\n",
              "    background-color: var(--disabled-bg-color);\n",
              "    fill: var(--disabled-fill-color);\n",
              "    box-shadow: none;\n",
              "  }\n",
              "\n",
              "  .colab-df-spinner {\n",
              "    border: 2px solid var(--fill-color);\n",
              "    border-color: transparent;\n",
              "    border-bottom-color: var(--fill-color);\n",
              "    animation:\n",
              "      spin 1s steps(1) infinite;\n",
              "  }\n",
              "\n",
              "  @keyframes spin {\n",
              "    0% {\n",
              "      border-color: transparent;\n",
              "      border-bottom-color: var(--fill-color);\n",
              "      border-left-color: var(--fill-color);\n",
              "    }\n",
              "    20% {\n",
              "      border-color: transparent;\n",
              "      border-left-color: var(--fill-color);\n",
              "      border-top-color: var(--fill-color);\n",
              "    }\n",
              "    30% {\n",
              "      border-color: transparent;\n",
              "      border-left-color: var(--fill-color);\n",
              "      border-top-color: var(--fill-color);\n",
              "      border-right-color: var(--fill-color);\n",
              "    }\n",
              "    40% {\n",
              "      border-color: transparent;\n",
              "      border-right-color: var(--fill-color);\n",
              "      border-top-color: var(--fill-color);\n",
              "    }\n",
              "    60% {\n",
              "      border-color: transparent;\n",
              "      border-right-color: var(--fill-color);\n",
              "    }\n",
              "    80% {\n",
              "      border-color: transparent;\n",
              "      border-right-color: var(--fill-color);\n",
              "      border-bottom-color: var(--fill-color);\n",
              "    }\n",
              "    90% {\n",
              "      border-color: transparent;\n",
              "      border-bottom-color: var(--fill-color);\n",
              "    }\n",
              "  }\n",
              "</style>\n",
              "\n",
              "  <script>\n",
              "    async function quickchart(key) {\n",
              "      const quickchartButtonEl =\n",
              "        document.querySelector('#' + key + ' button');\n",
              "      quickchartButtonEl.disabled = true;  // To prevent multiple clicks.\n",
              "      quickchartButtonEl.classList.add('colab-df-spinner');\n",
              "      try {\n",
              "        const charts = await google.colab.kernel.invokeFunction(\n",
              "            'suggestCharts', [key], {});\n",
              "      } catch (error) {\n",
              "        console.error('Error during call to suggestCharts:', error);\n",
              "      }\n",
              "      quickchartButtonEl.classList.remove('colab-df-spinner');\n",
              "      quickchartButtonEl.classList.add('colab-df-quickchart-complete');\n",
              "    }\n",
              "    (() => {\n",
              "      let quickchartButtonEl =\n",
              "        document.querySelector('#df-f7f08521-78d5-4e51-932c-29fae93173c2 button');\n",
              "      quickchartButtonEl.style.display =\n",
              "        google.colab.kernel.accessAllowed ? 'block' : 'none';\n",
              "    })();\n",
              "  </script>\n",
              "</div>\n",
              "\n",
              "  <div id=\"id_568b607a-f374-44fd-a9e9-82cf3d25e6ab\">\n",
              "    <style>\n",
              "      .colab-df-generate {\n",
              "        background-color: #E8F0FE;\n",
              "        border: none;\n",
              "        border-radius: 50%;\n",
              "        cursor: pointer;\n",
              "        display: none;\n",
              "        fill: #1967D2;\n",
              "        height: 32px;\n",
              "        padding: 0 0 0 0;\n",
              "        width: 32px;\n",
              "      }\n",
              "\n",
              "      .colab-df-generate:hover {\n",
              "        background-color: #E2EBFA;\n",
              "        box-shadow: 0px 1px 2px rgba(60, 64, 67, 0.3), 0px 1px 3px 1px rgba(60, 64, 67, 0.15);\n",
              "        fill: #174EA6;\n",
              "      }\n",
              "\n",
              "      [theme=dark] .colab-df-generate {\n",
              "        background-color: #3B4455;\n",
              "        fill: #D2E3FC;\n",
              "      }\n",
              "\n",
              "      [theme=dark] .colab-df-generate:hover {\n",
              "        background-color: #434B5C;\n",
              "        box-shadow: 0px 1px 3px 1px rgba(0, 0, 0, 0.15);\n",
              "        filter: drop-shadow(0px 1px 2px rgba(0, 0, 0, 0.3));\n",
              "        fill: #FFFFFF;\n",
              "      }\n",
              "    </style>\n",
              "    <button class=\"colab-df-generate\" onclick=\"generateWithVariable('unemployment')\"\n",
              "            title=\"Generate code using this dataframe.\"\n",
              "            style=\"display:none;\">\n",
              "\n",
              "  <svg xmlns=\"http://www.w3.org/2000/svg\" height=\"24px\"viewBox=\"0 0 24 24\"\n",
              "       width=\"24px\">\n",
              "    <path d=\"M7,19H8.4L18.45,9,17,7.55,7,17.6ZM5,21V16.75L18.45,3.32a2,2,0,0,1,2.83,0l1.4,1.43a1.91,1.91,0,0,1,.58,1.4,1.91,1.91,0,0,1-.58,1.4L9.25,21ZM18.45,9,17,7.55Zm-12,3A5.31,5.31,0,0,0,4.9,8.1,5.31,5.31,0,0,0,1,6.5,5.31,5.31,0,0,0,4.9,4.9,5.31,5.31,0,0,0,6.5,1,5.31,5.31,0,0,0,8.1,4.9,5.31,5.31,0,0,0,12,6.5,5.46,5.46,0,0,0,6.5,12Z\"/>\n",
              "  </svg>\n",
              "    </button>\n",
              "    <script>\n",
              "      (() => {\n",
              "      const buttonEl =\n",
              "        document.querySelector('#id_568b607a-f374-44fd-a9e9-82cf3d25e6ab button.colab-df-generate');\n",
              "      buttonEl.style.display =\n",
              "        google.colab.kernel.accessAllowed ? 'block' : 'none';\n",
              "\n",
              "      buttonEl.onclick = () => {\n",
              "        google.colab.notebook.generateWithVariable('unemployment');\n",
              "      }\n",
              "      })();\n",
              "    </script>\n",
              "  </div>\n",
              "\n",
              "    </div>\n",
              "  </div>\n"
            ],
            "application/vnd.google.colaboratory.intrinsic+json": {
              "type": "dataframe",
              "variable_name": "unemployment",
              "summary": "{\n  \"name\": \"unemployment\",\n  \"rows\": 5,\n  \"fields\": [\n    {\n      \"column\": \"continent\",\n      \"properties\": {\n        \"dtype\": \"string\",\n        \"num_unique_values\": 4,\n        \"samples\": [\n          \"Africa\",\n          \"South America\",\n          \"Asia\"\n        ],\n        \"semantic_type\": \"\",\n        \"description\": \"\"\n      }\n    },\n    {\n      \"column\": \"2010\",\n      \"properties\": {\n        \"dtype\": \"number\",\n        \"std\": 4.352851938671932,\n        \"min\": 2.48,\n        \"max\": 14.09,\n        \"num_unique_values\": 5,\n        \"samples\": [\n          9.43,\n          7.71,\n          14.09\n        ],\n        \"semantic_type\": \"\",\n        \"description\": \"\"\n      }\n    },\n    {\n      \"column\": \"2011\",\n      \"properties\": {\n        \"dtype\": \"number\",\n        \"std\": 4.258213240315708,\n        \"min\": 2.3,\n        \"max\": 13.48,\n        \"num_unique_values\": 5,\n        \"samples\": [\n          7.36,\n          7.18,\n          13.48\n        ],\n        \"semantic_type\": \"\",\n        \"description\": \"\"\n      }\n    },\n    {\n      \"column\": \"2012\",\n      \"properties\": {\n        \"dtype\": \"number\",\n        \"std\": 4.3177285695142995,\n        \"min\": 2.18,\n        \"max\": 13.38,\n        \"num_unique_values\": 5,\n        \"samples\": [\n          7.35,\n          7.22,\n          13.38\n        ],\n        \"semantic_type\": \"\",\n        \"description\": \"\"\n      }\n    },\n    {\n      \"column\": \"2013\",\n      \"properties\": {\n        \"dtype\": \"number\",\n        \"std\": 5.154913190345692,\n        \"min\": 2.04,\n        \"max\": 15.87,\n        \"num_unique_values\": 5,\n        \"samples\": [\n          7.37,\n          7.1,\n          15.87\n        ],\n        \"semantic_type\": \"\",\n        \"description\": \"\"\n      }\n    },\n    {\n      \"column\": \"2014\",\n      \"properties\": {\n        \"dtype\": \"number\",\n        \"std\": 5.964278665521926,\n        \"min\": 1.91,\n        \"max\": 18.05,\n        \"num_unique_values\": 5,\n        \"samples\": [\n          7.37,\n          7.27,\n          18.05\n        ],\n        \"semantic_type\": \"\",\n        \"description\": \"\"\n      }\n    },\n    {\n      \"column\": \"2015\",\n      \"properties\": {\n        \"dtype\": \"number\",\n        \"std\": 5.671604711190653,\n        \"min\": 1.77,\n        \"max\": 17.19,\n        \"num_unique_values\": 5,\n        \"samples\": [\n          7.39,\n          7.52,\n          17.19\n        ],\n        \"semantic_type\": \"\",\n        \"description\": \"\"\n      }\n    },\n    {\n      \"column\": \"2016\",\n      \"properties\": {\n        \"dtype\": \"number\",\n        \"std\": 5.075782698264377,\n        \"min\": 1.64,\n        \"max\": 15.42,\n        \"num_unique_values\": 5,\n        \"samples\": [\n          7.41,\n          8.11,\n          15.42\n        ],\n        \"semantic_type\": \"\",\n        \"description\": \"\"\n      }\n    },\n    {\n      \"column\": \"2017\",\n      \"properties\": {\n        \"dtype\": \"number\",\n        \"std\": 4.21411081961545,\n        \"min\": 2.46,\n        \"max\": 13.62,\n        \"num_unique_values\": 5,\n        \"samples\": [\n          7.41,\n          8.35,\n          13.62\n        ],\n        \"semantic_type\": \"\",\n        \"description\": \"\"\n      }\n    },\n    {\n      \"column\": \"2018\",\n      \"properties\": {\n        \"dtype\": \"number\",\n        \"std\": 3.9041349874203894,\n        \"min\": 2.35,\n        \"max\": 12.3,\n        \"num_unique_values\": 5,\n        \"samples\": [\n          7.42,\n          9.22,\n          12.3\n        ],\n        \"semantic_type\": \"\",\n        \"description\": \"\"\n      }\n    },\n    {\n      \"column\": \"2019\",\n      \"properties\": {\n        \"dtype\": \"number\",\n        \"std\": 3.8234055500299733,\n        \"min\": 2.23,\n        \"max\": 11.47,\n        \"num_unique_values\": 5,\n        \"samples\": [\n          7.42,\n          9.84,\n          11.47\n        ],\n        \"semantic_type\": \"\",\n        \"description\": \"\"\n      }\n    },\n    {\n      \"column\": \"2020\",\n      \"properties\": {\n        \"dtype\": \"number\",\n        \"std\": 4.016388925390569,\n        \"min\": 3.19,\n        \"max\": 13.33,\n        \"num_unique_values\": 5,\n        \"samples\": [\n          8.33,\n          11.46,\n          13.33\n        ],\n        \"semantic_type\": \"\",\n        \"description\": \"\"\n      }\n    },\n    {\n      \"column\": \"2021\",\n      \"properties\": {\n        \"dtype\": \"number\",\n        \"std\": 3.880749927526895,\n        \"min\": 3.36,\n        \"max\": 13.28,\n        \"num_unique_values\": 5,\n        \"samples\": [\n          8.53,\n          10.9,\n          11.82\n        ],\n        \"semantic_type\": \"\",\n        \"description\": \"\"\n      }\n    }\n  ]\n}"
            }
          },
          "metadata": {},
          "execution_count": 15
        }
      ]
    },
    {
      "cell_type": "code",
      "source": [
        "# Print yearly mean and standard deviation grouped by continent\n",
        "print(unemployment.groupby(\"continent\").agg(['mean', 'std']))"
      ],
      "metadata": {
        "colab": {
          "base_uri": "https://localhost:8080/"
        },
        "id": "JZ2fqk7lCElO",
        "outputId": "fa7d1fb1-3eb8-48ef-e893-69e6573fbee5"
      },
      "execution_count": 16,
      "outputs": [
        {
          "output_type": "stream",
          "name": "stdout",
          "text": [
            "                 2010              2011             2012              2013  \\\n",
            "                 mean       std    mean       std   mean       std    mean   \n",
            "continent                                                                    \n",
            "Africa          9.430       NaN   7.360       NaN   7.35       NaN   7.370   \n",
            "Asia            6.915  6.272037   6.675  6.187184   6.76  6.477098   6.615   \n",
            "Europe         14.090       NaN  13.480       NaN  13.38       NaN  15.870   \n",
            "South America   7.710       NaN   7.180       NaN   7.22       NaN   7.100   \n",
            "\n",
            "                           2014            ...   2017             2018  \\\n",
            "                    std    mean       std  ...   mean       std   mean   \n",
            "continent                                  ...                           \n",
            "Africa              NaN   7.370       NaN  ...   7.41       NaN   7.42   \n",
            "Asia           6.470027   6.525  6.526596  ...   6.82  6.165971   6.75   \n",
            "Europe              NaN  18.050       NaN  ...  13.62       NaN  12.30   \n",
            "South America       NaN   7.270       NaN  ...   8.35       NaN   9.22   \n",
            "\n",
            "                          2019            2020            2021            \n",
            "                   std    mean      std   mean      std   mean       std  \n",
            "continent                                                                 \n",
            "Africa             NaN   7.420      NaN   8.33      NaN   8.53       NaN  \n",
            "Asia           6.22254   6.725  6.35689   7.45  6.02455   8.32  7.014499  \n",
            "Europe             NaN  11.470      NaN  13.33      NaN  11.82       NaN  \n",
            "South America      NaN   9.840      NaN  11.46      NaN  10.90       NaN  \n",
            "\n",
            "[4 rows x 24 columns]\n"
          ]
        }
      ]
    },
    {
      "cell_type": "code",
      "source": [
        "continent_summary = unemployment.groupby(\"continent\").agg(\n",
        "    # Create the mean_rate_2021 column\n",
        "    mean_rate_2021 = ('2021' , \"mean\"),\n",
        "    # Create the std_rate_2021 column\n",
        "    std_rate_2021 = ('2021' , \"std\"),\n",
        ")\n",
        "print(continent_summary)"
      ],
      "metadata": {
        "colab": {
          "base_uri": "https://localhost:8080/"
        },
        "id": "OPp-IUtJCEfg",
        "outputId": "72c20ff0-ebc7-4f7d-f155-2062de242277"
      },
      "execution_count": 17,
      "outputs": [
        {
          "output_type": "stream",
          "name": "stdout",
          "text": [
            "               mean_rate_2021  std_rate_2021\n",
            "continent                                   \n",
            "Africa                   8.53            NaN\n",
            "Asia                     8.32       7.014499\n",
            "Europe                  11.82            NaN\n",
            "South America           10.90            NaN\n"
          ]
        }
      ]
    },
    {
      "cell_type": "code",
      "source": [
        "# Create a bar plot of continents and their 2021 average unemployment\n",
        "sns.barplot(data=unemployment, x=\"continent\", y=\"2021\")\n",
        "plt.show()"
      ],
      "metadata": {
        "colab": {
          "base_uri": "https://localhost:8080/",
          "height": 449
        },
        "id": "vHLIlA9TIuHK",
        "outputId": "a4d6fbc6-c67f-4d93-e434-aeebaa1a8377"
      },
      "execution_count": 18,
      "outputs": [
        {
          "output_type": "display_data",
          "data": {
            "text/plain": [
              "<Figure size 640x480 with 1 Axes>"
            ],
            "image/png": "[encoded data removed]"
          },
          "metadata": {}
        }
      ]
    },
    {
      "cell_type": "markdown",
      "source": [
        "# Addressing missing data"
      ],
      "metadata": {
        "id": "VN0ICskWNRJR"
      }
    },
    {
      "cell_type": "code",
      "source": [
        "planes = {'Airline': {0: 'Jet Airways',\n",
        "  1: 'IndiGo',\n",
        "  2: 'IndiGo',\n",
        "  3: 'SpiceJet',\n",
        "  4: 'Jet Airways'},\n",
        " 'Date_of_Journey': {0: '9/06/2019',\n",
        "  1: '12/05/2019',\n",
        "  2: '01/03/2019',\n",
        "  3: '24/06/2019',\n",
        "  4: '12/03/2019'},\n",
        " 'Source': {0: 'Delhi',\n",
        "  1: 'Kolkata',\n",
        "  2: 'Banglore',\n",
        "  3: 'Kolkata',\n",
        "  4: 'Banglore'},\n",
        " 'Destination': {0: 'Cochin',\n",
        "  1: 'Banglore',\n",
        "  2: 'New Delhi',\n",
        "  3: 'Banglore',\n",
        "  4: 'New Delhi'},\n",
        " 'Route': {0: 'DEL → LKO → BOM → COK',\n",
        "  1: 'CCU → NAG → BLR',\n",
        "  2: 'BLR → NAG → DEL',\n",
        "  3: 'CCU → BLR',\n",
        "  4: 'BLR → BOM → DEL'},\n",
        " 'Dep_Time': {0: '09:25', 1: '18:05', 2: '16:50', 3: '09:00', 4: '18:55'},\n",
        " 'Arrival_Time': {0: '04:25 10 Jun',\n",
        "  1: '23:30',\n",
        "  2: '21:35',\n",
        "  3: '11:25',\n",
        "  4: '10:25 13 Mar'},\n",
        " 'Duration': {0: '19h', 1: '5h 25m', 2: '4h 45m', 3: '2h 25m', 4: '15h 30m'},\n",
        " 'Total_Stops': {0: '2 stops',\n",
        "  1: '1 stop',\n",
        "  2: '1 stop',\n",
        "  3: 'non-stop',\n",
        "  4: '1 stop'},\n",
        " 'Additional_Info': {0: 'No info',\n",
        "  1: 'No info',\n",
        "  2: 'No info',\n",
        "  3: 'No info',\n",
        "  4: 'In-flight meal not included'},\n",
        " 'Price': {0: 13882.0, 1: 6218.0, 2: 13302.0, 3: 3873.0, 4: 11087.0}}\n",
        "planes = pd.DataFrame(df_dict)"
      ],
      "metadata": {
        "id": "vpi6y-HhNSR6"
      },
      "execution_count": 19,
      "outputs": []
    },
    {
      "cell_type": "code",
      "source": [
        "# Count the number of missing values in each column\n",
        "print(planes.isna().sum())\n",
        "\n",
        "# Find the five percent threshold\n",
        "threshold = len(planes) * 0.05\n",
        "\n",
        "# Create a filter\n",
        "cols_to_drop = planes.columns[planes.isna().sum() <= threshold]\n",
        "\n",
        "# Drop missing values for columns below the threshold\n",
        "planes.dropna(subset= cols_to_drop, inplace= True)\n",
        "\n",
        "print(planes.isna().sum())"
      ],
      "metadata": {
        "colab": {
          "base_uri": "https://localhost:8080/"
        },
        "id": "DICUFSh-Y1yU",
        "outputId": "bb5784cf-d80c-4bce-f002-8d6219dfa8dd"
      },
      "execution_count": 20,
      "outputs": [
        {
          "output_type": "stream",
          "name": "stdout",
          "text": [
            "continent    0\n",
            "2010         0\n",
            "2011         0\n",
            "2012         0\n",
            "2013         0\n",
            "2014         0\n",
            "2015         0\n",
            "2016         0\n",
            "2017         0\n",
            "2018         0\n",
            "2019         0\n",
            "2020         0\n",
            "2021         0\n",
            "dtype: int64\n",
            "continent    0\n",
            "2010         0\n",
            "2011         0\n",
            "2012         0\n",
            "2013         0\n",
            "2014         0\n",
            "2015         0\n",
            "2016         0\n",
            "2017         0\n",
            "2018         0\n",
            "2019         0\n",
            "2020         0\n",
            "2021         0\n",
            "dtype: int64\n"
          ]
        }
      ]
    },
    {
      "cell_type": "code",
      "source": [
        "df_dict = {'Airline': {0: 'Jet Airways',\n",
        "  1: 'IndiGo',\n",
        "  2: 'IndiGo',\n",
        "  3: 'SpiceJet',\n",
        "  4: 'Jet Airways'},\n",
        " 'Date_of_Journey': {0: '9/06/2019',\n",
        "  1: '12/05/2019',\n",
        "  2: '01/03/2019',\n",
        "  3: '24/06/2019',\n",
        "  4: '12/03/2019'},\n",
        " 'Source': {0: 'Delhi',\n",
        "  1: 'Kolkata',\n",
        "  2: 'Banglore',\n",
        "  3: 'Kolkata',\n",
        "  4: 'Banglore'},\n",
        " 'Destination': {0: 'Cochin',\n",
        "  1: 'Banglore',\n",
        "  2: 'New Delhi',\n",
        "  3: 'Banglore',\n",
        "  4: 'New Delhi'},\n",
        " 'Route': {0: 'DEL → LKO → BOM → COK',\n",
        "  1: 'CCU → NAG → BLR',\n",
        "  2: 'BLR → NAG → DEL',\n",
        "  3: 'CCU → BLR',\n",
        "  4: 'BLR → BOM → DEL'},\n",
        " 'Dep_Time': {0: '09:25', 1: '18:05', 2: '16:50', 3: '09:00', 4: '18:55'},\n",
        " 'Arrival_Time': {0: '04:25 10 Jun',\n",
        "  1: '23:30',\n",
        "  2: '21:35',\n",
        "  3: '11:25',\n",
        "  4: '10:25 13 Mar'},\n",
        " 'Duration': {0: '19h', 1: '5h 25m', 2: '4h 45m', 3: '2h 25m', 4: '15h 30m'},\n",
        " 'Total_Stops': {0: '2 stops',\n",
        "  1: '1 stop',\n",
        "  2: '1 stop',\n",
        "  3: 'non-stop',\n",
        "  4: '1 stop'},\n",
        " 'Price': {0: 13882.0, 1: 6218.0, 2: 13302.0, 3: 3873.0, 4: 11087.0}}\n",
        "planes = pd.DataFrame(df_dict)"
      ],
      "metadata": {
        "id": "RF6FB4Mgco4g"
      },
      "execution_count": 21,
      "outputs": []
    },
    {
      "cell_type": "code",
      "source": [
        "# Check the values of the Additional_Info column\n",
        "print(planes[\"Additional_Info\"].value_counts())\n",
        "\n",
        "# Create a box plot of Price by Airline\n",
        "sns.boxplot(data=planes, x=\"Airline\", y=\"Price\")\n",
        "\n",
        "plt.show()"
      ],
      "metadata": {
        "colab": {
          "base_uri": "https://localhost:8080/",
          "height": 478
        },
        "id": "CzubOvUCZEmP",
        "outputId": "0431945c-caca-4b27-a080-b078d9a34177"
      },
      "execution_count": 22,
      "outputs": [
        {
          "output_type": "error",
          "ename": "KeyError",
          "evalue": "'Additional_Info'",
          "traceback": [
            "\u001b[0;31m---------------------------------------------------------------------------\u001b[0m",
            "\u001b[0;31mKeyError\u001b[0m                                  Traceback (most recent call last)",
            "\u001b[0;32m/usr/local/lib/python3.10/dist-packages/pandas/core/indexes/base.py\u001b[0m in \u001b[0;36mget_loc\u001b[0;34m(self, key)\u001b[0m\n\u001b[1;32m   3652\u001b[0m         \u001b[0;32mtry\u001b[0m\u001b[0;34m:\u001b[0m\u001b[0;34m\u001b[0m\u001b[0;34m\u001b[0m\u001b[0m\n\u001b[0;32m-> 3653\u001b[0;31m             \u001b[0;32mreturn\u001b[0m \u001b[0mself\u001b[0m\u001b[0;34m.\u001b[0m\u001b[0m_engine\u001b[0m\u001b[0;34m.\u001b[0m\u001b[0mget_loc\u001b[0m\u001b[0;34m(\u001b[0m\u001b[0mcasted_key\u001b[0m\u001b[0;34m)\u001b[0m\u001b[0;34m\u001b[0m\u001b[0;34m\u001b[0m\u001b[0m\n\u001b[0m\u001b[1;32m   3654\u001b[0m         \u001b[0;32mexcept\u001b[0m \u001b[0mKeyError\u001b[0m \u001b[0;32mas\u001b[0m \u001b[0merr\u001b[0m\u001b[0;34m:\u001b[0m\u001b[0;34m\u001b[0m\u001b[0;34m\u001b[0m\u001b[0m\n",
            "\u001b[0;32m/usr/local/lib/python3.10/dist-packages/pandas/_libs/index.pyx\u001b[0m in \u001b[0;36mpandas._libs.index.IndexEngine.get_loc\u001b[0;34m()\u001b[0m\n",
            "\u001b[0;32m/usr/local/lib/python3.10/dist-packages/pandas/_libs/index.pyx\u001b[0m in \u001b[0;36mpandas._libs.index.IndexEngine.get_loc\u001b[0;34m()\u001b[0m\n",
            "\u001b[0;32mpandas/_libs/hashtable_class_helper.pxi\u001b[0m in \u001b[0;36mpandas._libs.hashtable.PyObjectHashTable.get_item\u001b[0;34m()\u001b[0m\n",
            "\u001b[0;32mpandas/_libs/hashtable_class_helper.pxi\u001b[0m in \u001b[0;36mpandas._libs.hashtable.PyObjectHashTable.get_item\u001b[0;34m()\u001b[0m\n",
            "\u001b[0;31mKeyError\u001b[0m: 'Additional_Info'",
            "\nThe above exception was the direct cause of the following exception:\n",
            "\u001b[0;31mKeyError\u001b[0m                                  Traceback (most recent call last)",
            "\u001b[0;32m<ipython-input-22-62f7ebc68e17>\u001b[0m in \u001b[0;36m<cell line: 2>\u001b[0;34m()\u001b[0m\n\u001b[1;32m      1\u001b[0m \u001b[0;31m# Check the values of the Additional_Info column\u001b[0m\u001b[0;34m\u001b[0m\u001b[0;34m\u001b[0m\u001b[0m\n\u001b[0;32m----> 2\u001b[0;31m \u001b[0mprint\u001b[0m\u001b[0;34m(\u001b[0m\u001b[0mplanes\u001b[0m\u001b[0;34m[\u001b[0m\u001b[0;34m\"Additional_Info\"\u001b[0m\u001b[0;34m]\u001b[0m\u001b[0;34m.\u001b[0m\u001b[0mvalue_counts\u001b[0m\u001b[0;34m(\u001b[0m\u001b[0;34m)\u001b[0m\u001b[0;34m)\u001b[0m\u001b[0;34m\u001b[0m\u001b[0;34m\u001b[0m\u001b[0m\n\u001b[0m\u001b[1;32m      3\u001b[0m \u001b[0;34m\u001b[0m\u001b[0m\n\u001b[1;32m      4\u001b[0m \u001b[0;31m# Create a box plot of Price by Airline\u001b[0m\u001b[0;34m\u001b[0m\u001b[0;34m\u001b[0m\u001b[0m\n\u001b[1;32m      5\u001b[0m \u001b[0msns\u001b[0m\u001b[0;34m.\u001b[0m\u001b[0mboxplot\u001b[0m\u001b[0;34m(\u001b[0m\u001b[0mdata\u001b[0m\u001b[0;34m=\u001b[0m\u001b[0mplanes\u001b[0m\u001b[0;34m,\u001b[0m \u001b[0mx\u001b[0m\u001b[0;34m=\u001b[0m\u001b[0;34m\"Airline\"\u001b[0m\u001b[0;34m,\u001b[0m \u001b[0my\u001b[0m\u001b[0;34m=\u001b[0m\u001b[0;34m\"Price\"\u001b[0m\u001b[0;34m)\u001b[0m\u001b[0;34m\u001b[0m\u001b[0;34m\u001b[0m\u001b[0m\n",
            "\u001b[0;32m/usr/local/lib/python3.10/dist-packages/pandas/core/frame.py\u001b[0m in \u001b[0;36m__getitem__\u001b[0;34m(self, key)\u001b[0m\n\u001b[1;32m   3759\u001b[0m             \u001b[0;32mif\u001b[0m \u001b[0mself\u001b[0m\u001b[0;34m.\u001b[0m\u001b[0mcolumns\u001b[0m\u001b[0;34m.\u001b[0m\u001b[0mnlevels\u001b[0m \u001b[0;34m>\u001b[0m \u001b[0;36m1\u001b[0m\u001b[0;34m:\u001b[0m\u001b[0;34m\u001b[0m\u001b[0;34m\u001b[0m\u001b[0m\n\u001b[1;32m   3760\u001b[0m                 \u001b[0;32mreturn\u001b[0m \u001b[0mself\u001b[0m\u001b[0;34m.\u001b[0m\u001b[0m_getitem_multilevel\u001b[0m\u001b[0;34m(\u001b[0m\u001b[0mkey\u001b[0m\u001b[0;34m)\u001b[0m\u001b[0;34m\u001b[0m\u001b[0;34m\u001b[0m\u001b[0m\n\u001b[0;32m-> 3761\u001b[0;31m             \u001b[0mindexer\u001b[0m \u001b[0;34m=\u001b[0m \u001b[0mself\u001b[0m\u001b[0;34m.\u001b[0m\u001b[0mcolumns\u001b[0m\u001b[0;34m.\u001b[0m\u001b[0mget_loc\u001b[0m\u001b[0;34m(\u001b[0m\u001b[0mkey\u001b[0m\u001b[0;34m)\u001b[0m\u001b[0;34m\u001b[0m\u001b[0;34m\u001b[0m\u001b[0m\n\u001b[0m\u001b[1;32m   3762\u001b[0m             \u001b[0;32mif\u001b[0m \u001b[0mis_integer\u001b[0m\u001b[0;34m(\u001b[0m\u001b[0mindexer\u001b[0m\u001b[0;34m)\u001b[0m\u001b[0;34m:\u001b[0m\u001b[0;34m\u001b[0m\u001b[0;34m\u001b[0m\u001b[0m\n\u001b[1;32m   3763\u001b[0m                 \u001b[0mindexer\u001b[0m \u001b[0;34m=\u001b[0m \u001b[0;34m[\u001b[0m\u001b[0mindexer\u001b[0m\u001b[0;34m]\u001b[0m\u001b[0;34m\u001b[0m\u001b[0;34m\u001b[0m\u001b[0m\n",
            "\u001b[0;32m/usr/local/lib/python3.10/dist-packages/pandas/core/indexes/base.py\u001b[0m in \u001b[0;36mget_loc\u001b[0;34m(self, key)\u001b[0m\n\u001b[1;32m   3653\u001b[0m             \u001b[0;32mreturn\u001b[0m \u001b[0mself\u001b[0m\u001b[0;34m.\u001b[0m\u001b[0m_engine\u001b[0m\u001b[0;34m.\u001b[0m\u001b[0mget_loc\u001b[0m\u001b[0;34m(\u001b[0m\u001b[0mcasted_key\u001b[0m\u001b[0;34m)\u001b[0m\u001b[0;34m\u001b[0m\u001b[0;34m\u001b[0m\u001b[0m\n\u001b[1;32m   3654\u001b[0m         \u001b[0;32mexcept\u001b[0m \u001b[0mKeyError\u001b[0m \u001b[0;32mas\u001b[0m \u001b[0merr\u001b[0m\u001b[0;34m:\u001b[0m\u001b[0;34m\u001b[0m\u001b[0;34m\u001b[0m\u001b[0m\n\u001b[0;32m-> 3655\u001b[0;31m             \u001b[0;32mraise\u001b[0m \u001b[0mKeyError\u001b[0m\u001b[0;34m(\u001b[0m\u001b[0mkey\u001b[0m\u001b[0;34m)\u001b[0m \u001b[0;32mfrom\u001b[0m \u001b[0merr\u001b[0m\u001b[0;34m\u001b[0m\u001b[0;34m\u001b[0m\u001b[0m\n\u001b[0m\u001b[1;32m   3656\u001b[0m         \u001b[0;32mexcept\u001b[0m \u001b[0mTypeError\u001b[0m\u001b[0;34m:\u001b[0m\u001b[0;34m\u001b[0m\u001b[0;34m\u001b[0m\u001b[0m\n\u001b[1;32m   3657\u001b[0m             \u001b[0;31m# If we have a listlike key, _check_indexing_error will raise\u001b[0m\u001b[0;34m\u001b[0m\u001b[0;34m\u001b[0m\u001b[0m\n",
            "\u001b[0;31mKeyError\u001b[0m: 'Additional_Info'"
          ]
        }
      ]
    },
    {
      "cell_type": "code",
      "source": [
        "# Calculate median plane ticket prices by Airline\n",
        "airline_prices = planes.groupby(\"Airline\")[\"Price\"].median()\n",
        "\n",
        "print(airline_prices)\n",
        "\n",
        "# Convert to a dictionary\n",
        "prices_dict = airline_prices.to_dict()\n",
        "\n",
        "# Map the dictionary to the missing values\n",
        "planes[\"Price\"] = planes[\"Price\"].fillna(planes[\"Airline\"].map(prices_dict))\n",
        "\n",
        "# Check for missing values\n",
        "print(planes.isna().sum())"
      ],
      "metadata": {
        "colab": {
          "base_uri": "https://localhost:8080/"
        },
        "id": "NLjhrGm9dN8k",
        "outputId": "0497e0ee-fa7d-4d24-d138-10255ad7a03e"
      },
      "execution_count": 23,
      "outputs": [
        {
          "output_type": "stream",
          "name": "stdout",
          "text": [
            "Airline\n",
            "IndiGo          9760.0\n",
            "Jet Airways    12484.5\n",
            "SpiceJet        3873.0\n",
            "Name: Price, dtype: float64\n",
            "Airline            0\n",
            "Date_of_Journey    0\n",
            "Source             0\n",
            "Destination        0\n",
            "Route              0\n",
            "Dep_Time           0\n",
            "Arrival_Time       0\n",
            "Duration           0\n",
            "Total_Stops        0\n",
            "Price              0\n",
            "dtype: int64\n"
          ]
        }
      ]
    },
    {
      "cell_type": "markdown",
      "source": [
        "**Converting and analyzing categorical data**"
      ],
      "metadata": {
        "id": "Zz52k7lC6XXZ"
      }
    },
    {
      "cell_type": "code",
      "source": [
        "df_dict= {'Airline': {0: 'Jet Airways',\n",
        "  1: 'IndiGo',\n",
        "  2: 'IndiGo',\n",
        "  3: 'SpiceJet',\n",
        "  4: 'Jet Airways'},\n",
        " 'Date_of_Journey': {0: '9/06/2019',\n",
        "  1: '12/05/2019',\n",
        "  2: '01/03/2019',\n",
        "  3: '24/06/2019',\n",
        "  4: '12/03/2019'},\n",
        " 'Source': {0: 'Delhi',\n",
        "  1: 'Kolkata',\n",
        "  2: 'Banglore',\n",
        "  3: 'Kolkata',\n",
        "  4: 'Banglore'},\n",
        " 'Destination': {0: 'Cochin',\n",
        "  1: 'Banglore',\n",
        "  2: 'New Delhi',\n",
        "  3: 'Banglore',\n",
        "  4: 'New Delhi'},\n",
        " 'Route': {0: 'DEL → LKO → BOM → COK',\n",
        "  1: 'CCU → NAG → BLR',\n",
        "  2: 'BLR → NAG → DEL',\n",
        "  3: 'CCU → BLR',\n",
        "  4: 'BLR → BOM → DEL'},\n",
        " 'Dep_Time': {0: '09:25', 1: '18:05', 2: '16:50', 3: '09:00', 4: '18:55'},\n",
        " 'Arrival_Time': {0: '04:25 10 Jun',\n",
        "  1: '23:30',\n",
        "  2: '21:35',\n",
        "  3: '11:25',\n",
        "  4: '10:25 13 Mar'},\n",
        " 'Duration': {0: '19h', 1: '5h 25m', 2: '4h 45m', 3: '2h 25m', 4: '15h 30m'},\n",
        " 'Total_Stops': {0: '2 stops',\n",
        "  1: '1 stop',\n",
        "  2: '1 stop',\n",
        "  3: 'non-stop',\n",
        "  4: '1 stop'},\n",
        " 'Additional_Info': {0: 'No info',\n",
        "  1: 'No info',\n",
        "  2: 'No info',\n",
        "  3: 'No info',\n",
        "  4: 'In-flight meal not included'},\n",
        " 'Price': {0: 13882.0, 1: 6218.0, 2: 13302.0, 3: 3873.0, 4: 11087.0}}\n",
        "planes = pd.DataFrame(df_dict)"
      ],
      "metadata": {
        "id": "1L3gYYqEotrJ"
      },
      "execution_count": 24,
      "outputs": []
    },
    {
      "cell_type": "code",
      "source": [
        "# Filter the DataFrame for object columns\n",
        "non_numeric = planes.select_dtypes(\"object\")\n",
        "\n",
        "# Loop through columns\n",
        "for column in non_numeric.columns:\n",
        "\n",
        "  # Print the number of unique values\n",
        "  print(f\"Number of unique values in {column} column: \", non_numeric[column].nunique())"
      ],
      "metadata": {
        "colab": {
          "base_uri": "https://localhost:8080/"
        },
        "id": "7dmMETwEdPvp",
        "outputId": "0db265de-28c6-4bf4-d425-a9623a8c2761"
      },
      "execution_count": 25,
      "outputs": [
        {
          "output_type": "stream",
          "name": "stdout",
          "text": [
            "Number of unique values in Airline column:  3\n",
            "Number of unique values in Date_of_Journey column:  5\n",
            "Number of unique values in Source column:  3\n",
            "Number of unique values in Destination column:  3\n",
            "Number of unique values in Route column:  5\n",
            "Number of unique values in Dep_Time column:  5\n",
            "Number of unique values in Arrival_Time column:  5\n",
            "Number of unique values in Duration column:  5\n",
            "Number of unique values in Total_Stops column:  3\n",
            "Number of unique values in Additional_Info column:  2\n"
          ]
        }
      ]
    },
    {
      "cell_type": "code",
      "source": [
        "# Create a list of categories\n",
        "flight_categories = [\"Short-haul\", \"Medium\", \"Long-haul\"]\n",
        "\n",
        "# Create short_flights\n",
        "short_flights = \"^0h|^1h|^2h|^3h|^4h\"\n",
        "\n",
        "# Create medium_flights\n",
        "medium_flights = \"^5h|^6h|^7h|^8h|^9h\"\n",
        "\n",
        "# Create long_flights\n",
        "long_flights = \"10h|11h|12h|13h|14h|15h|16h\""
      ],
      "metadata": {
        "id": "xe4FmBzD6oxf"
      },
      "execution_count": 26,
      "outputs": []
    },
    {
      "cell_type": "code",
      "source": [
        "# Create conditions for values in flight_categories to be created\n",
        "conditions = [\n",
        "    planes[\"Duration\"].str.contains(short_flights),\n",
        "    planes[\"Duration\"].str.contains(medium_flights),\n",
        "    planes[\"Duration\"].str.contains(long_flights)\n",
        "]\n",
        "\n",
        "# Apply the conditions list to the flight_categories\n",
        "planes[\"Duration_Category\"] = np.select(conditions,\n",
        "                                        flight_categories,\n",
        "                                        default=\"Extreme duration\")\n",
        "\n",
        "# Plot the counts of each category\n",
        "sns.countplot(data=planes, x=\"Duration_Category\")\n",
        "plt.show()"
      ],
      "metadata": {
        "colab": {
          "base_uri": "https://localhost:8080/",
          "height": 450
        },
        "id": "zoY9_wR8ma53",
        "outputId": "5efd4211-4cb1-4685-8f42-3197048ea190"
      },
      "execution_count": 27,
      "outputs": [
        {
          "output_type": "display_data",
          "data": {
            "text/plain": [
              "<Figure size 640x480 with 1 Axes>"
            ],
            "image/png": "[encoded data removed]"
          },
          "metadata": {}
        }
      ]
    },
    {
      "cell_type": "code",
      "source": [
        "print(planes[\"Duration\"])"
      ],
      "metadata": {
        "colab": {
          "base_uri": "https://localhost:8080/"
        },
        "id": "_koT09wVu9Bf",
        "outputId": "8dc17ea5-7e1b-4f61-d916-9838806e807d"
      },
      "execution_count": 29,
      "outputs": [
        {
          "output_type": "stream",
          "name": "stdout",
          "text": [
            "0      19.0\n",
            "1     525.0\n",
            "2     445.0\n",
            "3     225.0\n",
            "4    1530.0\n",
            "Name: Duration, dtype: float64\n"
          ]
        }
      ]
    },
    {
      "cell_type": "code",
      "source": [
        "# Preview the column\n",
        "print(planes[\"Duration\"].head())\n",
        "\n",
        "# Remove the string character\n",
        "planes[\"Duration\"] = planes[\"Duration\"].str.replace(\"h\", \"\")\n",
        "planes[\"Duration\"] = planes[\"Duration\"].str.replace(\"m\", \"\")\n",
        "planes[\"Duration\"] = planes[\"Duration\"].str.replace(\" \", \"\")\n",
        "\n",
        "# Convert to float data type\n",
        "planes[\"Duration\"] = planes[\"Duration\"].astype(float)\n",
        "\n",
        "# Plot a histogram\n",
        "sns.histplot(data=planes, x='Duration')\n",
        "plt.show()"
      ],
      "metadata": {
        "colab": {
          "base_uri": "https://localhost:8080/",
          "height": 460
        },
        "id": "eNQ4KZvAma2H",
        "outputId": "56883aa8-5817-4892-d119-212c40ed318e"
      },
      "execution_count": 30,
      "outputs": [
        {
          "output_type": "stream",
          "name": "stdout",
          "text": [
            "0      19.0\n",
            "1     525.0\n",
            "2     445.0\n",
            "3     225.0\n",
            "4    1530.0\n",
            "Name: Duration, dtype: float64\n"
          ]
        },
        {
          "output_type": "error",
          "ename": "AttributeError",
          "evalue": "Can only use .str accessor with string values!",
          "traceback": [
            "\u001b[0;31m---------------------------------------------------------------------------\u001b[0m",
            "\u001b[0;31mAttributeError\u001b[0m                            Traceback (most recent call last)",
            "\u001b[0;32m<ipython-input-30-28a134241005>\u001b[0m in \u001b[0;36m<cell line: 5>\u001b[0;34m()\u001b[0m\n\u001b[1;32m      3\u001b[0m \u001b[0;34m\u001b[0m\u001b[0m\n\u001b[1;32m      4\u001b[0m \u001b[0;31m# Remove the string character\u001b[0m\u001b[0;34m\u001b[0m\u001b[0;34m\u001b[0m\u001b[0m\n\u001b[0;32m----> 5\u001b[0;31m \u001b[0mplanes\u001b[0m\u001b[0;34m[\u001b[0m\u001b[0;34m\"Duration\"\u001b[0m\u001b[0;34m]\u001b[0m \u001b[0;34m=\u001b[0m \u001b[0mplanes\u001b[0m\u001b[0;34m[\u001b[0m\u001b[0;34m\"Duration\"\u001b[0m\u001b[0;34m]\u001b[0m\u001b[0;34m.\u001b[0m\u001b[0mstr\u001b[0m\u001b[0;34m.\u001b[0m\u001b[0mreplace\u001b[0m\u001b[0;34m(\u001b[0m\u001b[0;34m\"h\"\u001b[0m\u001b[0;34m,\u001b[0m \u001b[0;34m\"\"\u001b[0m\u001b[0;34m)\u001b[0m\u001b[0;34m\u001b[0m\u001b[0;34m\u001b[0m\u001b[0m\n\u001b[0m\u001b[1;32m      6\u001b[0m \u001b[0mplanes\u001b[0m\u001b[0;34m[\u001b[0m\u001b[0;34m\"Duration\"\u001b[0m\u001b[0;34m]\u001b[0m \u001b[0;34m=\u001b[0m \u001b[0mplanes\u001b[0m\u001b[0;34m[\u001b[0m\u001b[0;34m\"Duration\"\u001b[0m\u001b[0;34m]\u001b[0m\u001b[0;34m.\u001b[0m\u001b[0mstr\u001b[0m\u001b[0;34m.\u001b[0m\u001b[0mreplace\u001b[0m\u001b[0;34m(\u001b[0m\u001b[0;34m\"m\"\u001b[0m\u001b[0;34m,\u001b[0m \u001b[0;34m\"\"\u001b[0m\u001b[0;34m)\u001b[0m\u001b[0;34m\u001b[0m\u001b[0;34m\u001b[0m\u001b[0m\n\u001b[1;32m      7\u001b[0m \u001b[0mplanes\u001b[0m\u001b[0;34m[\u001b[0m\u001b[0;34m\"Duration\"\u001b[0m\u001b[0;34m]\u001b[0m \u001b[0;34m=\u001b[0m \u001b[0mplanes\u001b[0m\u001b[0;34m[\u001b[0m\u001b[0;34m\"Duration\"\u001b[0m\u001b[0;34m]\u001b[0m\u001b[0;34m.\u001b[0m\u001b[0mstr\u001b[0m\u001b[0;34m.\u001b[0m\u001b[0mreplace\u001b[0m\u001b[0;34m(\u001b[0m\u001b[0;34m\" \"\u001b[0m\u001b[0;34m,\u001b[0m \u001b[0;34m\"\"\u001b[0m\u001b[0;34m)\u001b[0m\u001b[0;34m\u001b[0m\u001b[0;34m\u001b[0m\u001b[0m\n",
            "\u001b[0;32m/usr/local/lib/python3.10/dist-packages/pandas/core/generic.py\u001b[0m in \u001b[0;36m__getattr__\u001b[0;34m(self, name)\u001b[0m\n\u001b[1;32m   5987\u001b[0m         ):\n\u001b[1;32m   5988\u001b[0m             \u001b[0;32mreturn\u001b[0m \u001b[0mself\u001b[0m\u001b[0;34m[\u001b[0m\u001b[0mname\u001b[0m\u001b[0;34m]\u001b[0m\u001b[0;34m\u001b[0m\u001b[0;34m\u001b[0m\u001b[0m\n\u001b[0;32m-> 5989\u001b[0;31m         \u001b[0;32mreturn\u001b[0m \u001b[0mobject\u001b[0m\u001b[0;34m.\u001b[0m\u001b[0m__getattribute__\u001b[0m\u001b[0;34m(\u001b[0m\u001b[0mself\u001b[0m\u001b[0;34m,\u001b[0m \u001b[0mname\u001b[0m\u001b[0;34m)\u001b[0m\u001b[0;34m\u001b[0m\u001b[0;34m\u001b[0m\u001b[0m\n\u001b[0m\u001b[1;32m   5990\u001b[0m \u001b[0;34m\u001b[0m\u001b[0m\n\u001b[1;32m   5991\u001b[0m     \u001b[0;32mdef\u001b[0m \u001b[0m__setattr__\u001b[0m\u001b[0;34m(\u001b[0m\u001b[0mself\u001b[0m\u001b[0;34m,\u001b[0m \u001b[0mname\u001b[0m\u001b[0;34m:\u001b[0m \u001b[0mstr\u001b[0m\u001b[0;34m,\u001b[0m \u001b[0mvalue\u001b[0m\u001b[0;34m)\u001b[0m \u001b[0;34m->\u001b[0m \u001b[0;32mNone\u001b[0m\u001b[0;34m:\u001b[0m\u001b[0;34m\u001b[0m\u001b[0;34m\u001b[0m\u001b[0m\n",
            "\u001b[0;32m/usr/local/lib/python3.10/dist-packages/pandas/core/accessor.py\u001b[0m in \u001b[0;36m__get__\u001b[0;34m(self, obj, cls)\u001b[0m\n\u001b[1;32m    222\u001b[0m             \u001b[0;31m# we're accessing the attribute of the class, i.e., Dataset.geo\u001b[0m\u001b[0;34m\u001b[0m\u001b[0;34m\u001b[0m\u001b[0m\n\u001b[1;32m    223\u001b[0m             \u001b[0;32mreturn\u001b[0m \u001b[0mself\u001b[0m\u001b[0;34m.\u001b[0m\u001b[0m_accessor\u001b[0m\u001b[0;34m\u001b[0m\u001b[0;34m\u001b[0m\u001b[0m\n\u001b[0;32m--> 224\u001b[0;31m         \u001b[0maccessor_obj\u001b[0m \u001b[0;34m=\u001b[0m \u001b[0mself\u001b[0m\u001b[0;34m.\u001b[0m\u001b[0m_accessor\u001b[0m\u001b[0;34m(\u001b[0m\u001b[0mobj\u001b[0m\u001b[0;34m)\u001b[0m\u001b[0;34m\u001b[0m\u001b[0;34m\u001b[0m\u001b[0m\n\u001b[0m\u001b[1;32m    225\u001b[0m         \u001b[0;31m# Replace the property with the accessor object. Inspired by:\u001b[0m\u001b[0;34m\u001b[0m\u001b[0;34m\u001b[0m\u001b[0m\n\u001b[1;32m    226\u001b[0m         \u001b[0;31m# https://www.pydanny.com/cached-property.html\u001b[0m\u001b[0;34m\u001b[0m\u001b[0;34m\u001b[0m\u001b[0m\n",
            "\u001b[0;32m/usr/local/lib/python3.10/dist-packages/pandas/core/strings/accessor.py\u001b[0m in \u001b[0;36m__init__\u001b[0;34m(self, data)\u001b[0m\n\u001b[1;32m    179\u001b[0m         \u001b[0;32mfrom\u001b[0m \u001b[0mpandas\u001b[0m\u001b[0;34m.\u001b[0m\u001b[0mcore\u001b[0m\u001b[0;34m.\u001b[0m\u001b[0marrays\u001b[0m\u001b[0;34m.\u001b[0m\u001b[0mstring_\u001b[0m \u001b[0;32mimport\u001b[0m \u001b[0mStringDtype\u001b[0m\u001b[0;34m\u001b[0m\u001b[0;34m\u001b[0m\u001b[0m\n\u001b[1;32m    180\u001b[0m \u001b[0;34m\u001b[0m\u001b[0m\n\u001b[0;32m--> 181\u001b[0;31m         \u001b[0mself\u001b[0m\u001b[0;34m.\u001b[0m\u001b[0m_inferred_dtype\u001b[0m \u001b[0;34m=\u001b[0m \u001b[0mself\u001b[0m\u001b[0;34m.\u001b[0m\u001b[0m_validate\u001b[0m\u001b[0;34m(\u001b[0m\u001b[0mdata\u001b[0m\u001b[0;34m)\u001b[0m\u001b[0;34m\u001b[0m\u001b[0;34m\u001b[0m\u001b[0m\n\u001b[0m\u001b[1;32m    182\u001b[0m         \u001b[0mself\u001b[0m\u001b[0;34m.\u001b[0m\u001b[0m_is_categorical\u001b[0m \u001b[0;34m=\u001b[0m \u001b[0mis_categorical_dtype\u001b[0m\u001b[0;34m(\u001b[0m\u001b[0mdata\u001b[0m\u001b[0;34m.\u001b[0m\u001b[0mdtype\u001b[0m\u001b[0;34m)\u001b[0m\u001b[0;34m\u001b[0m\u001b[0;34m\u001b[0m\u001b[0m\n\u001b[1;32m    183\u001b[0m         \u001b[0mself\u001b[0m\u001b[0;34m.\u001b[0m\u001b[0m_is_string\u001b[0m \u001b[0;34m=\u001b[0m \u001b[0misinstance\u001b[0m\u001b[0;34m(\u001b[0m\u001b[0mdata\u001b[0m\u001b[0;34m.\u001b[0m\u001b[0mdtype\u001b[0m\u001b[0;34m,\u001b[0m \u001b[0mStringDtype\u001b[0m\u001b[0;34m)\u001b[0m\u001b[0;34m\u001b[0m\u001b[0;34m\u001b[0m\u001b[0m\n",
            "\u001b[0;32m/usr/local/lib/python3.10/dist-packages/pandas/core/strings/accessor.py\u001b[0m in \u001b[0;36m_validate\u001b[0;34m(data)\u001b[0m\n\u001b[1;32m    233\u001b[0m \u001b[0;34m\u001b[0m\u001b[0m\n\u001b[1;32m    234\u001b[0m         \u001b[0;32mif\u001b[0m \u001b[0minferred_dtype\u001b[0m \u001b[0;32mnot\u001b[0m \u001b[0;32min\u001b[0m \u001b[0mallowed_types\u001b[0m\u001b[0;34m:\u001b[0m\u001b[0;34m\u001b[0m\u001b[0;34m\u001b[0m\u001b[0m\n\u001b[0;32m--> 235\u001b[0;31m             \u001b[0;32mraise\u001b[0m \u001b[0mAttributeError\u001b[0m\u001b[0;34m(\u001b[0m\u001b[0;34m\"Can only use .str accessor with string values!\"\u001b[0m\u001b[0;34m)\u001b[0m\u001b[0;34m\u001b[0m\u001b[0;34m\u001b[0m\u001b[0m\n\u001b[0m\u001b[1;32m    236\u001b[0m         \u001b[0;32mreturn\u001b[0m \u001b[0minferred_dtype\u001b[0m\u001b[0;34m\u001b[0m\u001b[0;34m\u001b[0m\u001b[0m\n\u001b[1;32m    237\u001b[0m \u001b[0;34m\u001b[0m\u001b[0m\n",
            "\u001b[0;31mAttributeError\u001b[0m: Can only use .str accessor with string values!"
          ]
        }
      ]
    },
    {
      "cell_type": "code",
      "source": [
        "# Price standard deviation by Airline\n",
        "planes[\"airline_price_st_dev\"] = planes.groupby(\"Airline\")[\"Price\"].transform(lambda x: x.std())\n",
        "\n",
        "print(planes[[\"Airline\", \"airline_price_st_dev\"]].value_counts())"
      ],
      "metadata": {
        "colab": {
          "base_uri": "https://localhost:8080/"
        },
        "id": "VaXlm7wLmayE",
        "outputId": "f94fa87d-fbc0-44ca-de57-3e6b1d30855f"
      },
      "execution_count": 31,
      "outputs": [
        {
          "output_type": "stream",
          "name": "stdout",
          "text": [
            "Airline      airline_price_st_dev\n",
            "IndiGo       5009.144438             2\n",
            "Jet Airways  1976.363453             2\n",
            "Name: count, dtype: int64\n"
          ]
        }
      ]
    },
    {
      "cell_type": "code",
      "source": [
        "# Median Duration by Airline\n",
        "planes[\"airline_median_duration\"] = planes.groupby(\"Airline\")[\"Duration\"].transform(lambda x: x.median())\n",
        "\n",
        "print(planes[[\"Airline\",\"airline_median_duration\"]].value_counts())"
      ],
      "metadata": {
        "colab": {
          "base_uri": "https://localhost:8080/"
        },
        "id": "K1vz7358wB5X",
        "outputId": "3eb02419-8ec2-4d2d-bd5e-4176a791e3c3"
      },
      "execution_count": 32,
      "outputs": [
        {
          "output_type": "stream",
          "name": "stdout",
          "text": [
            "Airline      airline_median_duration\n",
            "IndiGo       485.0                      2\n",
            "Jet Airways  774.5                      2\n",
            "SpiceJet     225.0                      1\n",
            "Name: count, dtype: int64\n"
          ]
        }
      ]
    },
    {
      "cell_type": "code",
      "source": [
        "# Mean Price by Destination\n",
        "planes[\"price_destination_mean\"] = planes.groupby(\"Destination\")[\"Price\"].transform(lambda x: x.mean())\n",
        "\n",
        "print(planes[[\"Destination\",\"price_destination_mean\"]].value_counts())"
      ],
      "metadata": {
        "colab": {
          "base_uri": "https://localhost:8080/"
        },
        "id": "k5vJlnJSwaBp",
        "outputId": "28653044-77ba-4fa3-af03-f40199036805"
      },
      "execution_count": 33,
      "outputs": [
        {
          "output_type": "stream",
          "name": "stdout",
          "text": [
            "Destination  price_destination_mean\n",
            "Banglore     5045.5                    2\n",
            "New Delhi    12194.5                   2\n",
            "Cochin       13882.0                   1\n",
            "Name: count, dtype: int64\n"
          ]
        }
      ]
    },
    {
      "cell_type": "markdown",
      "source": [
        "# Handling outliers"
      ],
      "metadata": {
        "id": "ev--X0RkwnCZ"
      }
    },
    {
      "cell_type": "code",
      "source": [
        "# Plot a histogram of flight prices\n",
        "plt.hist(planes['Price'])\n",
        "plt.show()"
      ],
      "metadata": {
        "colab": {
          "base_uri": "https://localhost:8080/",
          "height": 430
        },
        "id": "Oc0a6ajQwoSJ",
        "outputId": "72c22448-aee2-4464-f25b-62782fafb902"
      },
      "execution_count": 34,
      "outputs": [
        {
          "output_type": "display_data",
          "data": {
            "text/plain": [
              "<Figure size 640x480 with 1 Axes>"
            ],
            "image/png": "[encoded data removed]"
          },
          "metadata": {}
        }
      ]
    },
    {
      "cell_type": "code",
      "source": [
        "# Plot a histogram of flight prices\n",
        "sns.histplot(data=planes ,x='Price')\n",
        "plt.show()"
      ],
      "metadata": {
        "colab": {
          "base_uri": "https://localhost:8080/",
          "height": 449
        },
        "id": "nzZW8Y7P2A34",
        "outputId": "ffce01da-7fb7-43de-df8e-d5e82abcae26"
      },
      "execution_count": 35,
      "outputs": [
        {
          "output_type": "display_data",
          "data": {
            "text/plain": [
              "<Figure size 640x480 with 1 Axes>"
            ],
            "image/png": "[encoded data removed]"
          },
          "metadata": {}
        }
      ]
    },
    {
      "cell_type": "code",
      "source": [
        "# Plot a histogram of flight prices\n",
        "sns.histplot(data=planes, x=\"Price\")\n",
        "plt.show()\n",
        "\n",
        "# Display descriptive statistics for flight duration\n",
        "print(planes['Duration'].describe())"
      ],
      "metadata": {
        "colab": {
          "base_uri": "https://localhost:8080/",
          "height": 605
        },
        "id": "6BDTFnR62hPn",
        "outputId": "9730bf1f-cf83-4ce6-df34-6067cb8e1d5c"
      },
      "execution_count": 36,
      "outputs": [
        {
          "output_type": "display_data",
          "data": {
            "text/plain": [
              "<Figure size 640x480 with 1 Axes>"
            ],
            "image/png": "[encoded data removed]"
          },
          "metadata": {}
        },
        {
          "output_type": "stream",
          "name": "stdout",
          "text": [
            "count       5.000000\n",
            "mean      548.800000\n",
            "std       583.015609\n",
            "min        19.000000\n",
            "25%       225.000000\n",
            "50%       445.000000\n",
            "75%       525.000000\n",
            "max      1530.000000\n",
            "Name: Duration, dtype: float64\n"
          ]
        }
      ]
    },
    {
      "cell_type": "code",
      "source": [
        "# Find the 75th and 25th percentiles\n",
        "price_seventy_fifth = planes[\"Price\"].quantile(0.75)\n",
        "price_twenty_fifth = planes[\"Price\"].quantile(0.25)\n",
        "\n",
        "# Calculate iqr\n",
        "prices_iqr = price_seventy_fifth - price_twenty_fifth\n",
        "\n",
        "# Calculate the thresholds\n",
        "upper = price_seventy_fifth + (1.5 * prices_iqr)\n",
        "lower = price_twenty_fifth - (1.5 * prices_iqr)\n",
        "\n",
        "# Subset the data\n",
        "planes = planes[(planes[\"Price\"] > lower) & (planes[\"Price\"] < upper)]\n",
        "\n",
        "print(planes[\"Price\"].describe())"
      ],
      "metadata": {
        "colab": {
          "base_uri": "https://localhost:8080/"
        },
        "id": "Pc6UO74527wU",
        "outputId": "0a72fad0-e979-4ddf-c6a9-0968a5cf9d25"
      },
      "execution_count": 37,
      "outputs": [
        {
          "output_type": "stream",
          "name": "stdout",
          "text": [
            "count        5.000000\n",
            "mean      9672.400000\n",
            "std       4428.931621\n",
            "min       3873.000000\n",
            "25%       6218.000000\n",
            "50%      11087.000000\n",
            "75%      13302.000000\n",
            "max      13882.000000\n",
            "Name: Price, dtype: float64\n"
          ]
        }
      ]
    },
    {
      "cell_type": "markdown",
      "source": [
        "# **Patterns over time**"
      ],
      "metadata": {
        "id": "hip0CC4abxTY"
      }
    },
    {
      "cell_type": "code",
      "source": [
        "pip install numpy"
      ],
      "metadata": {
        "colab": {
          "base_uri": "https://localhost:8080/"
        },
        "id": "6EYgxml6kTYT",
        "outputId": "6a33e821-c178-4216-dea2-4b53ab4926a0"
      },
      "execution_count": 38,
      "outputs": [
        {
          "output_type": "stream",
          "name": "stdout",
          "text": [
            "Requirement already satisfied: numpy in /usr/local/lib/python3.10/dist-packages (1.25.2)\n"
          ]
        }
      ]
    },
    {
      "cell_type": "code",
      "source": [
        "import pandas as pd\n",
        "import numpy as np\n",
        "from pandas import Timestamp\n",
        "\n",
        "df_dict = {'divorce_date': {0: Timestamp('2006-09-06 00:00:00'),\n",
        "  1: Timestamp('2008-01-02 00:00:00'),\n",
        "  2: Timestamp('2011-01-02 00:00:00'),\n",
        "  3: Timestamp('2011-01-02 00:00:00'),\n",
        "  4: Timestamp('2011-01-02 00:00:00')},\n",
        " 'dob_man': {0: Timestamp('1975-12-18 00:00:00'),\n",
        "  1: Timestamp('1976-11-17 00:00:00'),\n",
        "  2: Timestamp('1969-04-06 00:00:00'),\n",
        "  3: Timestamp('1979-11-13 00:00:00'),\n",
        "  4: Timestamp('1982-09-20 00:00:00')},\n",
        " 'education_man': {0: 'Secondary',\n",
        "  1: 'Professional',\n",
        "  2: 'Preparatory',\n",
        "  3: 'Secondary',\n",
        "  4: 'Professional'},\n",
        " 'income_man': {0: 2000.0, 1: 6000.0, 2: 5000.0, 3: 12000.0, 4: 6000.0},\n",
        " 'dob_woman': {0: Timestamp('1983-08-01 00:00:00'),\n",
        "  1: Timestamp('1977-03-13 00:00:00'),\n",
        "  2: Timestamp('1970-02-16 00:00:00'),\n",
        "  3: Timestamp('1981-05-13 00:00:00'),\n",
        "  4: Timestamp('1988-01-30 00:00:00')},\n",
        " 'education_woman': {0: 'Secondary',\n",
        "  1: 'Professional',\n",
        "  2: 'Professional',\n",
        "  3: 'Secondary',\n",
        "  4: 'Professional'},\n",
        " 'income_woman': {0: 1800.0, 1: 6000.0, 2: 5000.0, 3: 12000.0, 4: 10000.0},\n",
        " 'marriage_date': {0: '2000-06-26',\n",
        "  1: '2001-09-02',\n",
        "  2: '2000-02-02',\n",
        "  3: '2006-05-13',\n",
        "  4: '2007-08-06'},\n",
        " 'marriage_duration': {0: 5.0, 1: 7.0, 2: 2.0, 3: 2.0, 4: 3.0},\n",
        " 'num_kids': {0: 1.0, 1: np.nan, 2: 2.0, 3: np.nan, 4: np.nan}}\n",
        "\n",
        "divorce = pd.DataFrame(df_dict)\n"
      ],
      "metadata": {
        "id": "bMhfOER2hiiY"
      },
      "execution_count": 3,
      "outputs": []
    },
    {
      "cell_type": "code",
      "source": [
        "# Import divorce.csv, parsing the appropriate columns as dates in the import\n",
        "#divorce = pd.read_csv('divorce.csv', parse_dates = ['divorce_date', 'dob_man', 'dob_woman', 'marriage_date'])\n",
        "print(divorce.dtypes)\n"
      ],
      "metadata": {
        "colab": {
          "base_uri": "https://localhost:8080/"
        },
        "id": "J7sKFja2buuW",
        "outputId": "2b4f8b6f-9f13-42b7-ba50-4040b45f9961"
      },
      "execution_count": 40,
      "outputs": [
        {
          "output_type": "stream",
          "name": "stdout",
          "text": [
            "divorce_date         datetime64[ns]\n",
            "dob_man              datetime64[ns]\n",
            "education_man                object\n",
            "income_man                  float64\n",
            "dob_woman            datetime64[ns]\n",
            "education_woman              object\n",
            "income_woman                float64\n",
            "marriage_date                object\n",
            "marriage_duration           float64\n",
            "num_kids                    float64\n",
            "dtype: object\n"
          ]
        }
      ]
    },
    {
      "cell_type": "code",
      "source": [
        "divorce[\"divorce_date\"] = pd.to_datetime(divorce['divorce_date'])\n",
        "divorce[\"dob_man\"] = pd.to_datetime(divorce['dob_man'])\n",
        "divorce[\"dob_woman\"] = pd.to_datetime(divorce['dob_woman'])\n",
        "divorce[\"marriage_date\"] = pd.to_datetime(divorce['marriage_date'])"
      ],
      "metadata": {
        "id": "FsFGZgYck_lr"
      },
      "execution_count": 41,
      "outputs": []
    },
    {
      "cell_type": "code",
      "source": [
        "# Convert the marriage_date column to DateTime values\n",
        "divorce[\"marriage_date\"] = pd.to_datetime(divorce['marriage_date'])\n"
      ],
      "metadata": {
        "id": "6rh9q9RHiB4G"
      },
      "execution_count": 42,
      "outputs": []
    },
    {
      "cell_type": "code",
      "source": [
        "# Define the marriage_year column\n",
        "divorce[\"marriage_year\"] = divorce[\"marriage_date\"].dt.year\n",
        "\n",
        "# Create a line plot showing the average number of kids by year\n",
        "sns.lineplot(data=divorce, x='marriage_year', y='num_kids', estimator='mean')\n",
        "\n",
        "plt.show()"
      ],
      "metadata": {
        "colab": {
          "base_uri": "https://localhost:8080/",
          "height": 450
        },
        "id": "COgqO_2TizAP",
        "outputId": "9dff0ab7-aa4d-4812-bab8-931018e804cb"
      },
      "execution_count": 44,
      "outputs": [
        {
          "output_type": "display_data",
          "data": {
            "text/plain": [
              "<Figure size 640x480 with 1 Axes>"
            ],
            "image/png": "[encoded data removed]"
          },
          "metadata": {}
        }
      ]
    },
    {
      "cell_type": "markdown",
      "source": [
        "# **Correlation**"
      ],
      "metadata": {
        "id": "X1T2Cq2_7Xix"
      }
    },
    {
      "cell_type": "code",
      "source": [
        "# Create the scatterplot\n",
        "sns.scatterplot(data = divorce, x='marriage_duration', y='num_kids')\n",
        "plt.show()"
      ],
      "metadata": {
        "colab": {
          "base_uri": "https://localhost:8080/",
          "height": 450
        },
        "id": "0_XdyfRK6x3S",
        "outputId": "2f933a22-7ebf-464e-aaac-105e30476571"
      },
      "execution_count": 45,
      "outputs": [
        {
          "output_type": "display_data",
          "data": {
            "text/plain": [
              "<Figure size 640x480 with 1 Axes>"
            ],
            "image/png": "[encoded data removed]"
          },
          "metadata": {}
        }
      ]
    },
    {
      "cell_type": "code",
      "source": [
        "# Create a pairplot for income_woman and marriage_duration\n",
        "sns.pairplot(data = divorce, vars=['income_woman', 'marriage_duration'])\n",
        "plt.show()"
      ],
      "metadata": {
        "colab": {
          "base_uri": "https://localhost:8080/",
          "height": 513
        },
        "id": "40ndHp4EHkMj",
        "outputId": "d5c29d2e-77d3-4c26-fcb6-e10c6b1a3afa"
      },
      "execution_count": 46,
      "outputs": [
        {
          "output_type": "display_data",
          "data": {
            "text/plain": [
              "<Figure size 500x500 with 6 Axes>"
            ],
            "image/png": "[encoded data removed]"
          },
          "metadata": {}
        }
      ]
    },
    {
      "cell_type": "markdown",
      "source": [
        "# Factor relationships and distributions"
      ],
      "metadata": {
        "id": "E2jO2wCSHnJH"
      }
    },
    {
      "cell_type": "code",
      "source": [
        "# Create the scatter plot\n",
        "sns.scatterplot( data = divorce, x = 'woman_age_marriage', y= 'income_woman', hue='education_woman')\n",
        "plt.show()"
      ],
      "metadata": {
        "colab": {
          "base_uri": "https://localhost:8080/",
          "height": 321
        },
        "id": "9GoYwr1hHoNZ",
        "outputId": "c3d3a7c7-6dd5-411c-8fd6-d300db12ae3a"
      },
      "execution_count": 4,
      "outputs": [
        {
          "output_type": "error",
          "ename": "ValueError",
          "evalue": "Could not interpret value `woman_age_marriage` for `x`. An entry with this name does not appear in `data`.",
          "traceback": [
            "\u001b[0;31m---------------------------------------------------------------------------\u001b[0m",
            "\u001b[0;31mValueError\u001b[0m                                Traceback (most recent call last)",
            "\u001b[0;32m<ipython-input-4-f231467051a1>\u001b[0m in \u001b[0;36m<cell line: 2>\u001b[0;34m()\u001b[0m\n\u001b[1;32m      1\u001b[0m \u001b[0;31m# Create the scatter plot\u001b[0m\u001b[0;34m\u001b[0m\u001b[0;34m\u001b[0m\u001b[0m\n\u001b[0;32m----> 2\u001b[0;31m \u001b[0msns\u001b[0m\u001b[0;34m.\u001b[0m\u001b[0mscatterplot\u001b[0m\u001b[0;34m(\u001b[0m \u001b[0mdata\u001b[0m \u001b[0;34m=\u001b[0m \u001b[0mdivorce\u001b[0m\u001b[0;34m,\u001b[0m \u001b[0mx\u001b[0m \u001b[0;34m=\u001b[0m \u001b[0;34m'woman_age_marriage'\u001b[0m\u001b[0;34m,\u001b[0m \u001b[0my\u001b[0m\u001b[0;34m=\u001b[0m \u001b[0;34m'income_woman'\u001b[0m\u001b[0;34m,\u001b[0m \u001b[0mhue\u001b[0m\u001b[0;34m=\u001b[0m\u001b[0;34m'education_woman'\u001b[0m\u001b[0;34m)\u001b[0m\u001b[0;34m\u001b[0m\u001b[0;34m\u001b[0m\u001b[0m\n\u001b[0m\u001b[1;32m      3\u001b[0m \u001b[0mplt\u001b[0m\u001b[0;34m.\u001b[0m\u001b[0mshow\u001b[0m\u001b[0;34m(\u001b[0m\u001b[0;34m)\u001b[0m\u001b[0;34m\u001b[0m\u001b[0;34m\u001b[0m\u001b[0m\n",
            "\u001b[0;32m/usr/local/lib/python3.10/dist-packages/seaborn/relational.py\u001b[0m in \u001b[0;36mscatterplot\u001b[0;34m(data, x, y, hue, size, style, palette, hue_order, hue_norm, sizes, size_order, size_norm, markers, style_order, legend, ax, **kwargs)\u001b[0m\n\u001b[1;32m    608\u001b[0m ):\n\u001b[1;32m    609\u001b[0m \u001b[0;34m\u001b[0m\u001b[0m\n\u001b[0;32m--> 610\u001b[0;31m     p = _ScatterPlotter(\n\u001b[0m\u001b[1;32m    611\u001b[0m         \u001b[0mdata\u001b[0m\u001b[0;34m=\u001b[0m\u001b[0mdata\u001b[0m\u001b[0;34m,\u001b[0m\u001b[0;34m\u001b[0m\u001b[0;34m\u001b[0m\u001b[0m\n\u001b[1;32m    612\u001b[0m         \u001b[0mvariables\u001b[0m\u001b[0;34m=\u001b[0m\u001b[0mdict\u001b[0m\u001b[0;34m(\u001b[0m\u001b[0mx\u001b[0m\u001b[0;34m=\u001b[0m\u001b[0mx\u001b[0m\u001b[0;34m,\u001b[0m \u001b[0my\u001b[0m\u001b[0;34m=\u001b[0m\u001b[0my\u001b[0m\u001b[0;34m,\u001b[0m \u001b[0mhue\u001b[0m\u001b[0;34m=\u001b[0m\u001b[0mhue\u001b[0m\u001b[0;34m,\u001b[0m \u001b[0msize\u001b[0m\u001b[0;34m=\u001b[0m\u001b[0msize\u001b[0m\u001b[0;34m,\u001b[0m \u001b[0mstyle\u001b[0m\u001b[0;34m=\u001b[0m\u001b[0mstyle\u001b[0m\u001b[0;34m)\u001b[0m\u001b[0;34m,\u001b[0m\u001b[0;34m\u001b[0m\u001b[0;34m\u001b[0m\u001b[0m\n",
            "\u001b[0;32m/usr/local/lib/python3.10/dist-packages/seaborn/relational.py\u001b[0m in \u001b[0;36m__init__\u001b[0;34m(self, data, variables, legend)\u001b[0m\n\u001b[1;32m    389\u001b[0m         )\n\u001b[1;32m    390\u001b[0m \u001b[0;34m\u001b[0m\u001b[0m\n\u001b[0;32m--> 391\u001b[0;31m         \u001b[0msuper\u001b[0m\u001b[0;34m(\u001b[0m\u001b[0;34m)\u001b[0m\u001b[0;34m.\u001b[0m\u001b[0m__init__\u001b[0m\u001b[0;34m(\u001b[0m\u001b[0mdata\u001b[0m\u001b[0;34m=\u001b[0m\u001b[0mdata\u001b[0m\u001b[0;34m,\u001b[0m \u001b[0mvariables\u001b[0m\u001b[0;34m=\u001b[0m\u001b[0mvariables\u001b[0m\u001b[0;34m)\u001b[0m\u001b[0;34m\u001b[0m\u001b[0;34m\u001b[0m\u001b[0m\n\u001b[0m\u001b[1;32m    392\u001b[0m \u001b[0;34m\u001b[0m\u001b[0m\n\u001b[1;32m    393\u001b[0m         \u001b[0mself\u001b[0m\u001b[0;34m.\u001b[0m\u001b[0mlegend\u001b[0m \u001b[0;34m=\u001b[0m \u001b[0mlegend\u001b[0m\u001b[0;34m\u001b[0m\u001b[0;34m\u001b[0m\u001b[0m\n",
            "\u001b[0;32m/usr/local/lib/python3.10/dist-packages/seaborn/_base.py\u001b[0m in \u001b[0;36m__init__\u001b[0;34m(self, data, variables)\u001b[0m\n\u001b[1;32m    632\u001b[0m         \u001b[0;31m# information for numeric axes would be information about log scales.\u001b[0m\u001b[0;34m\u001b[0m\u001b[0;34m\u001b[0m\u001b[0m\n\u001b[1;32m    633\u001b[0m         \u001b[0mself\u001b[0m\u001b[0;34m.\u001b[0m\u001b[0m_var_ordered\u001b[0m \u001b[0;34m=\u001b[0m \u001b[0;34m{\u001b[0m\u001b[0;34m\"x\"\u001b[0m\u001b[0;34m:\u001b[0m \u001b[0;32mFalse\u001b[0m\u001b[0;34m,\u001b[0m \u001b[0;34m\"y\"\u001b[0m\u001b[0;34m:\u001b[0m \u001b[0;32mFalse\u001b[0m\u001b[0;34m}\u001b[0m  \u001b[0;31m# alt., used DefaultDict\u001b[0m\u001b[0;34m\u001b[0m\u001b[0;34m\u001b[0m\u001b[0m\n\u001b[0;32m--> 634\u001b[0;31m         \u001b[0mself\u001b[0m\u001b[0;34m.\u001b[0m\u001b[0massign_variables\u001b[0m\u001b[0;34m(\u001b[0m\u001b[0mdata\u001b[0m\u001b[0;34m,\u001b[0m \u001b[0mvariables\u001b[0m\u001b[0;34m)\u001b[0m\u001b[0;34m\u001b[0m\u001b[0;34m\u001b[0m\u001b[0m\n\u001b[0m\u001b[1;32m    635\u001b[0m \u001b[0;34m\u001b[0m\u001b[0m\n\u001b[1;32m    636\u001b[0m         \u001b[0;31m# TODO Lots of tests assume that these are called to initialize the\u001b[0m\u001b[0;34m\u001b[0m\u001b[0;34m\u001b[0m\u001b[0m\n",
            "\u001b[0;32m/usr/local/lib/python3.10/dist-packages/seaborn/_base.py\u001b[0m in \u001b[0;36massign_variables\u001b[0;34m(self, data, variables)\u001b[0m\n\u001b[1;32m    677\u001b[0m             \u001b[0;31m# to centralize / standardize data consumption logic.\u001b[0m\u001b[0;34m\u001b[0m\u001b[0;34m\u001b[0m\u001b[0m\n\u001b[1;32m    678\u001b[0m             \u001b[0mself\u001b[0m\u001b[0;34m.\u001b[0m\u001b[0minput_format\u001b[0m \u001b[0;34m=\u001b[0m \u001b[0;34m\"long\"\u001b[0m\u001b[0;34m\u001b[0m\u001b[0;34m\u001b[0m\u001b[0m\n\u001b[0;32m--> 679\u001b[0;31m             \u001b[0mplot_data\u001b[0m \u001b[0;34m=\u001b[0m \u001b[0mPlotData\u001b[0m\u001b[0;34m(\u001b[0m\u001b[0mdata\u001b[0m\u001b[0;34m,\u001b[0m \u001b[0mvariables\u001b[0m\u001b[0;34m)\u001b[0m\u001b[0;34m\u001b[0m\u001b[0;34m\u001b[0m\u001b[0m\n\u001b[0m\u001b[1;32m    680\u001b[0m             \u001b[0mframe\u001b[0m \u001b[0;34m=\u001b[0m \u001b[0mplot_data\u001b[0m\u001b[0;34m.\u001b[0m\u001b[0mframe\u001b[0m\u001b[0;34m\u001b[0m\u001b[0;34m\u001b[0m\u001b[0m\n\u001b[1;32m    681\u001b[0m             \u001b[0mnames\u001b[0m \u001b[0;34m=\u001b[0m \u001b[0mplot_data\u001b[0m\u001b[0;34m.\u001b[0m\u001b[0mnames\u001b[0m\u001b[0;34m\u001b[0m\u001b[0;34m\u001b[0m\u001b[0m\n",
            "\u001b[0;32m/usr/local/lib/python3.10/dist-packages/seaborn/_core/data.py\u001b[0m in \u001b[0;36m__init__\u001b[0;34m(self, data, variables)\u001b[0m\n\u001b[1;32m     56\u001b[0m \u001b[0;34m\u001b[0m\u001b[0m\n\u001b[1;32m     57\u001b[0m         \u001b[0mdata\u001b[0m \u001b[0;34m=\u001b[0m \u001b[0mhandle_data_source\u001b[0m\u001b[0;34m(\u001b[0m\u001b[0mdata\u001b[0m\u001b[0;34m)\u001b[0m\u001b[0;34m\u001b[0m\u001b[0;34m\u001b[0m\u001b[0m\n\u001b[0;32m---> 58\u001b[0;31m         \u001b[0mframe\u001b[0m\u001b[0;34m,\u001b[0m \u001b[0mnames\u001b[0m\u001b[0;34m,\u001b[0m \u001b[0mids\u001b[0m \u001b[0;34m=\u001b[0m \u001b[0mself\u001b[0m\u001b[0;34m.\u001b[0m\u001b[0m_assign_variables\u001b[0m\u001b[0;34m(\u001b[0m\u001b[0mdata\u001b[0m\u001b[0;34m,\u001b[0m \u001b[0mvariables\u001b[0m\u001b[0;34m)\u001b[0m\u001b[0;34m\u001b[0m\u001b[0;34m\u001b[0m\u001b[0m\n\u001b[0m\u001b[1;32m     59\u001b[0m \u001b[0;34m\u001b[0m\u001b[0m\n\u001b[1;32m     60\u001b[0m         \u001b[0mself\u001b[0m\u001b[0;34m.\u001b[0m\u001b[0mframe\u001b[0m \u001b[0;34m=\u001b[0m \u001b[0mframe\u001b[0m\u001b[0;34m\u001b[0m\u001b[0;34m\u001b[0m\u001b[0m\n",
            "\u001b[0;32m/usr/local/lib/python3.10/dist-packages/seaborn/_core/data.py\u001b[0m in \u001b[0;36m_assign_variables\u001b[0;34m(self, data, variables)\u001b[0m\n\u001b[1;32m    230\u001b[0m                 \u001b[0;32melse\u001b[0m\u001b[0;34m:\u001b[0m\u001b[0;34m\u001b[0m\u001b[0;34m\u001b[0m\u001b[0m\n\u001b[1;32m    231\u001b[0m                     \u001b[0merr\u001b[0m \u001b[0;34m+=\u001b[0m \u001b[0;34m\"An entry with this name does not appear in `data`.\"\u001b[0m\u001b[0;34m\u001b[0m\u001b[0;34m\u001b[0m\u001b[0m\n\u001b[0;32m--> 232\u001b[0;31m                 \u001b[0;32mraise\u001b[0m \u001b[0mValueError\u001b[0m\u001b[0;34m(\u001b[0m\u001b[0merr\u001b[0m\u001b[0;34m)\u001b[0m\u001b[0;34m\u001b[0m\u001b[0;34m\u001b[0m\u001b[0m\n\u001b[0m\u001b[1;32m    233\u001b[0m \u001b[0;34m\u001b[0m\u001b[0m\n\u001b[1;32m    234\u001b[0m             \u001b[0;32melse\u001b[0m\u001b[0;34m:\u001b[0m\u001b[0;34m\u001b[0m\u001b[0;34m\u001b[0m\u001b[0m\n",
            "\u001b[0;31mValueError\u001b[0m: Could not interpret value `woman_age_marriage` for `x`. An entry with this name does not appear in `data`."
          ]
        }
      ]
    },
    {
      "cell_type": "code",
      "source": [
        "# Create the KDE plot\n",
        "sns.kdeplot(data = divorce, x = \"marriage_duration\", hue = \"num_kids\")\n",
        "plt.show()"
      ],
      "metadata": {
        "colab": {
          "base_uri": "https://localhost:8080/",
          "height": 490
        },
        "id": "JV1EGq_dHrXn",
        "outputId": "3a104aa1-6389-46a5-f0eb-de8ec01cb39c"
      },
      "execution_count": 5,
      "outputs": [
        {
          "output_type": "stream",
          "name": "stderr",
          "text": [
            "<ipython-input-5-fd6bb9b55b36>:2: UserWarning: Dataset has 0 variance; skipping density estimate. Pass `warn_singular=False` to disable this warning.\n",
            "  sns.kdeplot(data = divorce, x = \"marriage_duration\", hue = \"num_kids\")\n"
          ]
        },
        {
          "output_type": "display_data",
          "data": {
            "text/plain": [
              "<Figure size 640x480 with 1 Axes>"
            ],
            "image/png": "[encoded data removed]"
          },
          "metadata": {}
        }
      ]
    },
    {
      "cell_type": "code",
      "source": [
        "# Update the KDE plot so that marriage duration can't be smoothed too far\n",
        "sns.kdeplot(data=divorce, x=\"marriage_duration\", hue=\"num_kids\", cut = 0)\n",
        "plt.show()"
      ],
      "metadata": {
        "colab": {
          "base_uri": "https://localhost:8080/",
          "height": 490
        },
        "id": "LzvmQgD9HrQk",
        "outputId": "b420ad86-9d33-436d-9649-3e5fd4e240d3"
      },
      "execution_count": 6,
      "outputs": [
        {
          "output_type": "stream",
          "name": "stderr",
          "text": [
            "<ipython-input-6-c86f259fca78>:2: UserWarning: Dataset has 0 variance; skipping density estimate. Pass `warn_singular=False` to disable this warning.\n",
            "  sns.kdeplot(data=divorce, x=\"marriage_duration\", hue=\"num_kids\", cut = 0)\n"
          ]
        },
        {
          "output_type": "display_data",
          "data": {
            "text/plain": [
              "<Figure size 640x480 with 1 Axes>"
            ],
            "image/png": "[encoded data removed]"
          },
          "metadata": {}
        }
      ]
    },
    {
      "cell_type": "code",
      "source": [
        "# Update the KDE plot to show a cumulative distribution function\n",
        "sns.kdeplot(data=divorce, x=\"marriage_duration\", hue=\"num_kids\", cut=0, cumulative = True)\n",
        "plt.show()"
      ],
      "metadata": {
        "colab": {
          "base_uri": "https://localhost:8080/",
          "height": 490
        },
        "id": "FBjgtkRL4R0X",
        "outputId": "4cbbeb99-25f8-4851-df7f-eb941cbd6c23"
      },
      "execution_count": 7,
      "outputs": [
        {
          "output_type": "stream",
          "name": "stderr",
          "text": [
            "<ipython-input-7-9f5ab2a04ccf>:2: UserWarning: Dataset has 0 variance; skipping density estimate. Pass `warn_singular=False` to disable this warning.\n",
            "  sns.kdeplot(data=divorce, x=\"marriage_duration\", hue=\"num_kids\", cut=0, cumulative = True)\n"
          ]
        },
        {
          "output_type": "display_data",
          "data": {
            "text/plain": [
              "<Figure size 640x480 with 1 Axes>"
            ],
            "image/png": "[encoded data removed]"
          },
          "metadata": {}
        }
      ]
    },
    {
      "cell_type": "markdown",
      "source": [
        "# **Considerations for categorical data**"
      ],
      "metadata": {
        "id": "gkIuwQo74fbs"
      }
    },
    {
      "cell_type": "code",
      "source": [
        "df_dict = {'Working_Year': {0: 2020, 1: 2020, 2: 2020, 3: 2020, 4: 2020},\n",
        " 'Designation': {0: 'Machine Learning Scientist',\n",
        "  1: 'Big Data Engineer',\n",
        "  2: 'Product Data Analyst',\n",
        "  3: 'Machine Learning Engineer',\n",
        "  4: 'Data Analyst'},\n",
        " 'Experience': {0: 'SE', 1: 'SE', 2: 'MI', 3: 'SE', 4: 'EN'},\n",
        " 'Employment_Status': {0: 'FT', 1: 'FT', 2: 'FT', 3: 'FT', 4: 'FT'},\n",
        " 'Salary_In_Rupees': {0: 20688070.0,\n",
        "  1: 8674985.0,\n",
        "  2: 1591390.0,\n",
        "  3: 11935425.0,\n",
        "  4: 5729004.0},\n",
        " 'Employee_Location': {0: 'JP', 1: 'GB', 2: 'HN', 3: 'US', 4: 'US'},\n",
        " 'Company_Location': {0: 'JP', 1: 'GB', 2: 'HN', 3: 'US', 4: 'US'},\n",
        " 'Company_Size': {0: 'S', 1: 'M', 2: 'S', 3: 'L', 4: 'L'},\n",
        " 'Remote_Working_Ratio': {0: 0.0, 1: 50.0, 2: 0.0, 3: 50.0, 4: 100.0},\n",
        " 'Salary_USD': {0: 248256.84,\n",
        "  1: 104099.82,\n",
        "  2: 19096.68,\n",
        "  3: 143225.1,\n",
        "  4: 68748.048},\n",
        " 'Job_Category': {0: 'Machine Learning',\n",
        "  1: 'Data Engineering',\n",
        "  2: 'Data Analytics',\n",
        "  3: 'Machine Learning',\n",
        "  4: 'Data Analytics'}}\n",
        "\n",
        "salaries = pd.DataFrame(df_dict)"
      ],
      "metadata": {
        "id": "r-fbGpJI9rvC"
      },
      "execution_count": 8,
      "outputs": []
    },
    {
      "cell_type": "code",
      "source": [
        "# Print the relative frequency of Job_Category\n",
        "print(salaries['Job_Category'].value_counts(normalize = True))"
      ],
      "metadata": {
        "colab": {
          "base_uri": "https://localhost:8080/"
        },
        "id": "2q6-bLuH9rnt",
        "outputId": "7aad74c4-e284-4f0e-d644-745fe470656b"
      },
      "execution_count": 9,
      "outputs": [
        {
          "output_type": "stream",
          "name": "stdout",
          "text": [
            "Job_Category\n",
            "Machine Learning    0.4\n",
            "Data Analytics      0.4\n",
            "Data Engineering    0.2\n",
            "Name: proportion, dtype: float64\n"
          ]
        }
      ]
    },
    {
      "cell_type": "code",
      "source": [
        "# Cross-tabulate Company_Size and Experience\n",
        "print(pd.crosstab(salaries[\"Company_Size\"], salaries[\"Experience\"]))"
      ],
      "metadata": {
        "colab": {
          "base_uri": "https://localhost:8080/"
        },
        "id": "ctb4JtdT4gln",
        "outputId": "910e9473-f6d7-49bc-9ca6-e6f0f2e0b984"
      },
      "execution_count": 11,
      "outputs": [
        {
          "output_type": "stream",
          "name": "stdout",
          "text": [
            "Experience    EN  MI  SE\n",
            "Company_Size            \n",
            "L              1   0   1\n",
            "M              0   0   1\n",
            "S              0   1   1\n"
          ]
        }
      ]
    },
    {
      "cell_type": "code",
      "source": [
        "# Cross-tabulate Job_Category and Company_Size\n",
        "print(pd.crosstab(salaries[\"Job_Category\"], salaries[\"Company_Size\"]))"
      ],
      "metadata": {
        "colab": {
          "base_uri": "https://localhost:8080/"
        },
        "id": "LkHPNYee-1NG",
        "outputId": "c70f31be-e95b-4b94-a722-fbae08273df2"
      },
      "execution_count": 10,
      "outputs": [
        {
          "output_type": "stream",
          "name": "stdout",
          "text": [
            "Company_Size      L  M  S\n",
            "Job_Category             \n",
            "Data Analytics    1  0  1\n",
            "Data Engineering  0  1  0\n",
            "Machine Learning  1  0  1\n"
          ]
        }
      ]
    },
    {
      "cell_type": "code",
      "source": [
        "import numpy as np\n",
        "import seaborn as sns\n",
        "import matplotlib.pyplot as plt\n",
        "import pandas as pd"
      ],
      "metadata": {
        "id": "OCmLzS5CADYU"
      },
      "execution_count": 13,
      "outputs": []
    },
    {
      "cell_type": "code",
      "source": [
        "# Cross-tabulate Job_Category and Company_Size\n",
        "print(pd.crosstab(salaries[\"Job_Category\"], salaries[\"Company_Size\"],\n",
        "            values=salaries[\"Salary_USD\"], aggfunc=\"mean\"))"
      ],
      "metadata": {
        "colab": {
          "base_uri": "https://localhost:8080/"
        },
        "id": "FxtGQFRP-3DX",
        "outputId": "5d095d4c-b06d-43de-a59f-0d4702c30694"
      },
      "execution_count": 20,
      "outputs": [
        {
          "output_type": "stream",
          "name": "stdout",
          "text": [
            "Company_Size               L          M          S\n",
            "Job_Category                                      \n",
            "Data Analytics     68748.048        NaN   19096.68\n",
            "Data Engineering         NaN  104099.82        NaN\n",
            "Machine Learning  143225.100        NaN  248256.84\n"
          ]
        }
      ]
    },
    {
      "cell_type": "code",
      "source": [],
      "metadata": {
        "colab": {
          "base_uri": "https://localhost:8080/"
        },
        "id": "s3SQowRmASst",
        "outputId": "198ca7cc-308d-42a9-b714-7ec70bb2baa9"
      },
      "execution_count": 21,
      "outputs": [
        {
          "output_type": "stream",
          "name": "stdout",
          "text": [
            "Company_Size               L          M          S\n",
            "Job_Category                                      \n",
            "Data Analytics     68748.048        NaN   19096.68\n",
            "Data Engineering         NaN  104099.82        NaN\n",
            "Machine Learning  143225.100        NaN  248256.84\n"
          ]
        }
      ]
    },
    {
      "cell_type": "code",
      "source": [
        "df_dict = {'Designation': {0: 'Machine Learning Scientist',\n",
        "  1: 'Big Data Engineer',\n",
        "  2: 'Product Data Analyst',\n",
        "  3: 'Machine Learning Engineer',\n",
        "  4: 'Data Analyst'},\n",
        " 'date_of_response': {0: Timestamp('2020-01-07 00:00:00'),\n",
        "  1: Timestamp('2020-09-19 00:00:00'),\n",
        "  2: Timestamp('2020-11-21 00:00:00'),\n",
        "  3: Timestamp('2020-11-29 00:00:00'),\n",
        "  4: Timestamp('2020-09-07 00:00:00')},\n",
        " 'Experience': {0: 'SE', 1: 'SE', 2: 'MI', 3: 'SE', 4: 'EN'},\n",
        " 'Employment_Status': {0: 'FT', 1: 'FT', 2: 'FT', 3: 'FT', 4: 'FT'},\n",
        " 'Salary_In_Rupees': {0: 20688070.0,\n",
        "  1: 8674985.0,\n",
        "  2: 1591390.0,\n",
        "  3: 11935425.0,\n",
        "  4: 5729004.0},\n",
        " 'Employee_Location': {0: 'JP', 1: 'GB', 2: 'HN', 3: 'US', 4: 'US'},\n",
        " 'Company_Location': {0: 'JP', 1: 'GB', 2: 'HN', 3: 'US', 4: 'US'},\n",
        " 'Company_Size': {0: 'S', 1: 'M', 2: 'S', 3: 'L', 4: 'L'},\n",
        " 'Remote_Working_Ratio': {0: 0.0, 1: 50.0, 2: 0.0, 3: 50.0, 4: 100.0},\n",
        " 'Salary_USD': {0: 248256.84,\n",
        "  1: 104099.82,\n",
        "  2: 19096.68,\n",
        "  3: 143225.1,\n",
        "  4: 68748.048},\n",
        " 'Job_Category': {0: 'Machine Learning',\n",
        "  1: 'Data Engineering',\n",
        "  2: 'Data Analytics',\n",
        "  3: 'Machine Learning',\n",
        "  4: 'Data Analytics'}}\n",
        "\n",
        "salaries = pd.DataFrame(df_dict)"
      ],
      "metadata": {
        "id": "hFTlIYAMEy3b"
      },
      "execution_count": 23,
      "outputs": []
    },
    {
      "cell_type": "code",
      "source": [
        "# Get the month of the response\n",
        "salaries[\"month\"] = salaries[\"date_of_response\"].dt.month\n",
        "\n",
        "# Extract the weekday of the response\n",
        "salaries[\"weekday\"] = salaries[\"date_of_response\"].dt.weekday\n",
        "\n",
        "# Create a heatmap\n",
        "sns.heatmap(salaries.corr(), annot=True)\n",
        "plt.show()"
      ],
      "metadata": {
        "colab": {
          "base_uri": "https://localhost:8080/",
          "height": 339
        },
        "id": "Myb1ys9UEo7W",
        "outputId": "6f126b5f-4735-44bd-8d71-56a76b075f41"
      },
      "execution_count": 24,
      "outputs": [
        {
          "output_type": "error",
          "ename": "ValueError",
          "evalue": "could not convert string to float: 'Machine Learning Scientist'",
          "traceback": [
            "\u001b[0;31m---------------------------------------------------------------------------\u001b[0m",
            "\u001b[0;31mValueError\u001b[0m                                Traceback (most recent call last)",
            "\u001b[0;32m<ipython-input-24-6dfa6de85d83>\u001b[0m in \u001b[0;36m<cell line: 8>\u001b[0;34m()\u001b[0m\n\u001b[1;32m      6\u001b[0m \u001b[0;34m\u001b[0m\u001b[0m\n\u001b[1;32m      7\u001b[0m \u001b[0;31m# Create a heatmap\u001b[0m\u001b[0;34m\u001b[0m\u001b[0;34m\u001b[0m\u001b[0m\n\u001b[0;32m----> 8\u001b[0;31m \u001b[0msns\u001b[0m\u001b[0;34m.\u001b[0m\u001b[0mheatmap\u001b[0m\u001b[0;34m(\u001b[0m\u001b[0msalaries\u001b[0m\u001b[0;34m.\u001b[0m\u001b[0mcorr\u001b[0m\u001b[0;34m(\u001b[0m\u001b[0;34m)\u001b[0m\u001b[0;34m,\u001b[0m \u001b[0mannot\u001b[0m\u001b[0;34m=\u001b[0m\u001b[0;32mTrue\u001b[0m\u001b[0;34m)\u001b[0m\u001b[0;34m\u001b[0m\u001b[0;34m\u001b[0m\u001b[0m\n\u001b[0m\u001b[1;32m      9\u001b[0m \u001b[0mplt\u001b[0m\u001b[0;34m.\u001b[0m\u001b[0mshow\u001b[0m\u001b[0;34m(\u001b[0m\u001b[0;34m)\u001b[0m\u001b[0;34m\u001b[0m\u001b[0;34m\u001b[0m\u001b[0m\n",
            "\u001b[0;32m/usr/local/lib/python3.10/dist-packages/pandas/core/frame.py\u001b[0m in \u001b[0;36mcorr\u001b[0;34m(self, method, min_periods, numeric_only)\u001b[0m\n\u001b[1;32m  10052\u001b[0m         \u001b[0mcols\u001b[0m \u001b[0;34m=\u001b[0m \u001b[0mdata\u001b[0m\u001b[0;34m.\u001b[0m\u001b[0mcolumns\u001b[0m\u001b[0;34m\u001b[0m\u001b[0;34m\u001b[0m\u001b[0m\n\u001b[1;32m  10053\u001b[0m         \u001b[0midx\u001b[0m \u001b[0;34m=\u001b[0m \u001b[0mcols\u001b[0m\u001b[0;34m.\u001b[0m\u001b[0mcopy\u001b[0m\u001b[0;34m(\u001b[0m\u001b[0;34m)\u001b[0m\u001b[0;34m\u001b[0m\u001b[0;34m\u001b[0m\u001b[0m\n\u001b[0;32m> 10054\u001b[0;31m         \u001b[0mmat\u001b[0m \u001b[0;34m=\u001b[0m \u001b[0mdata\u001b[0m\u001b[0;34m.\u001b[0m\u001b[0mto_numpy\u001b[0m\u001b[0;34m(\u001b[0m\u001b[0mdtype\u001b[0m\u001b[0;34m=\u001b[0m\u001b[0mfloat\u001b[0m\u001b[0;34m,\u001b[0m \u001b[0mna_value\u001b[0m\u001b[0;34m=\u001b[0m\u001b[0mnp\u001b[0m\u001b[0;34m.\u001b[0m\u001b[0mnan\u001b[0m\u001b[0;34m,\u001b[0m \u001b[0mcopy\u001b[0m\u001b[0;34m=\u001b[0m\u001b[0;32mFalse\u001b[0m\u001b[0;34m)\u001b[0m\u001b[0;34m\u001b[0m\u001b[0;34m\u001b[0m\u001b[0m\n\u001b[0m\u001b[1;32m  10055\u001b[0m \u001b[0;34m\u001b[0m\u001b[0m\n\u001b[1;32m  10056\u001b[0m         \u001b[0;32mif\u001b[0m \u001b[0mmethod\u001b[0m \u001b[0;34m==\u001b[0m \u001b[0;34m\"pearson\"\u001b[0m\u001b[0;34m:\u001b[0m\u001b[0;34m\u001b[0m\u001b[0;34m\u001b[0m\u001b[0m\n",
            "\u001b[0;32m/usr/local/lib/python3.10/dist-packages/pandas/core/frame.py\u001b[0m in \u001b[0;36mto_numpy\u001b[0;34m(self, dtype, copy, na_value)\u001b[0m\n\u001b[1;32m   1836\u001b[0m         \u001b[0;32mif\u001b[0m \u001b[0mdtype\u001b[0m \u001b[0;32mis\u001b[0m \u001b[0;32mnot\u001b[0m \u001b[0;32mNone\u001b[0m\u001b[0;34m:\u001b[0m\u001b[0;34m\u001b[0m\u001b[0;34m\u001b[0m\u001b[0m\n\u001b[1;32m   1837\u001b[0m             \u001b[0mdtype\u001b[0m \u001b[0;34m=\u001b[0m \u001b[0mnp\u001b[0m\u001b[0;34m.\u001b[0m\u001b[0mdtype\u001b[0m\u001b[0;34m(\u001b[0m\u001b[0mdtype\u001b[0m\u001b[0;34m)\u001b[0m\u001b[0;34m\u001b[0m\u001b[0;34m\u001b[0m\u001b[0m\n\u001b[0;32m-> 1838\u001b[0;31m         \u001b[0mresult\u001b[0m \u001b[0;34m=\u001b[0m \u001b[0mself\u001b[0m\u001b[0;34m.\u001b[0m\u001b[0m_mgr\u001b[0m\u001b[0;34m.\u001b[0m\u001b[0mas_array\u001b[0m\u001b[0;34m(\u001b[0m\u001b[0mdtype\u001b[0m\u001b[0;34m=\u001b[0m\u001b[0mdtype\u001b[0m\u001b[0;34m,\u001b[0m \u001b[0mcopy\u001b[0m\u001b[0;34m=\u001b[0m\u001b[0mcopy\u001b[0m\u001b[0;34m,\u001b[0m \u001b[0mna_value\u001b[0m\u001b[0;34m=\u001b[0m\u001b[0mna_value\u001b[0m\u001b[0;34m)\u001b[0m\u001b[0;34m\u001b[0m\u001b[0;34m\u001b[0m\u001b[0m\n\u001b[0m\u001b[1;32m   1839\u001b[0m         \u001b[0;32mif\u001b[0m \u001b[0mresult\u001b[0m\u001b[0;34m.\u001b[0m\u001b[0mdtype\u001b[0m \u001b[0;32mis\u001b[0m \u001b[0;32mnot\u001b[0m \u001b[0mdtype\u001b[0m\u001b[0;34m:\u001b[0m\u001b[0;34m\u001b[0m\u001b[0;34m\u001b[0m\u001b[0m\n\u001b[1;32m   1840\u001b[0m             \u001b[0mresult\u001b[0m \u001b[0;34m=\u001b[0m \u001b[0mnp\u001b[0m\u001b[0;34m.\u001b[0m\u001b[0marray\u001b[0m\u001b[0;34m(\u001b[0m\u001b[0mresult\u001b[0m\u001b[0;34m,\u001b[0m \u001b[0mdtype\u001b[0m\u001b[0;34m=\u001b[0m\u001b[0mdtype\u001b[0m\u001b[0;34m,\u001b[0m \u001b[0mcopy\u001b[0m\u001b[0;34m=\u001b[0m\u001b[0;32mFalse\u001b[0m\u001b[0;34m)\u001b[0m\u001b[0;34m\u001b[0m\u001b[0;34m\u001b[0m\u001b[0m\n",
            "\u001b[0;32m/usr/local/lib/python3.10/dist-packages/pandas/core/internals/managers.py\u001b[0m in \u001b[0;36mas_array\u001b[0;34m(self, dtype, copy, na_value)\u001b[0m\n\u001b[1;32m   1730\u001b[0m                 \u001b[0marr\u001b[0m\u001b[0;34m.\u001b[0m\u001b[0mflags\u001b[0m\u001b[0;34m.\u001b[0m\u001b[0mwriteable\u001b[0m \u001b[0;34m=\u001b[0m \u001b[0;32mFalse\u001b[0m\u001b[0;34m\u001b[0m\u001b[0;34m\u001b[0m\u001b[0m\n\u001b[1;32m   1731\u001b[0m         \u001b[0;32melse\u001b[0m\u001b[0;34m:\u001b[0m\u001b[0;34m\u001b[0m\u001b[0;34m\u001b[0m\u001b[0m\n\u001b[0;32m-> 1732\u001b[0;31m             \u001b[0marr\u001b[0m \u001b[0;34m=\u001b[0m \u001b[0mself\u001b[0m\u001b[0;34m.\u001b[0m\u001b[0m_interleave\u001b[0m\u001b[0;34m(\u001b[0m\u001b[0mdtype\u001b[0m\u001b[0;34m=\u001b[0m\u001b[0mdtype\u001b[0m\u001b[0;34m,\u001b[0m \u001b[0mna_value\u001b[0m\u001b[0;34m=\u001b[0m\u001b[0mna_value\u001b[0m\u001b[0;34m)\u001b[0m\u001b[0;34m\u001b[0m\u001b[0;34m\u001b[0m\u001b[0m\n\u001b[0m\u001b[1;32m   1733\u001b[0m             \u001b[0;31m# The underlying data was copied within _interleave, so no need\u001b[0m\u001b[0;34m\u001b[0m\u001b[0;34m\u001b[0m\u001b[0m\n\u001b[1;32m   1734\u001b[0m             \u001b[0;31m# to further copy if copy=True or setting na_value\u001b[0m\u001b[0;34m\u001b[0m\u001b[0;34m\u001b[0m\u001b[0m\n",
            "\u001b[0;32m/usr/local/lib/python3.10/dist-packages/pandas/core/internals/managers.py\u001b[0m in \u001b[0;36m_interleave\u001b[0;34m(self, dtype, na_value)\u001b[0m\n\u001b[1;32m   1792\u001b[0m             \u001b[0;32melse\u001b[0m\u001b[0;34m:\u001b[0m\u001b[0;34m\u001b[0m\u001b[0;34m\u001b[0m\u001b[0m\n\u001b[1;32m   1793\u001b[0m                 \u001b[0marr\u001b[0m \u001b[0;34m=\u001b[0m \u001b[0mblk\u001b[0m\u001b[0;34m.\u001b[0m\u001b[0mget_values\u001b[0m\u001b[0;34m(\u001b[0m\u001b[0mdtype\u001b[0m\u001b[0;34m)\u001b[0m\u001b[0;34m\u001b[0m\u001b[0;34m\u001b[0m\u001b[0m\n\u001b[0;32m-> 1794\u001b[0;31m             \u001b[0mresult\u001b[0m\u001b[0;34m[\u001b[0m\u001b[0mrl\u001b[0m\u001b[0;34m.\u001b[0m\u001b[0mindexer\u001b[0m\u001b[0;34m]\u001b[0m \u001b[0;34m=\u001b[0m \u001b[0marr\u001b[0m\u001b[0;34m\u001b[0m\u001b[0;34m\u001b[0m\u001b[0m\n\u001b[0m\u001b[1;32m   1795\u001b[0m             \u001b[0mitemmask\u001b[0m\u001b[0;34m[\u001b[0m\u001b[0mrl\u001b[0m\u001b[0;34m.\u001b[0m\u001b[0mindexer\u001b[0m\u001b[0;34m]\u001b[0m \u001b[0;34m=\u001b[0m \u001b[0;36m1\u001b[0m\u001b[0;34m\u001b[0m\u001b[0;34m\u001b[0m\u001b[0m\n\u001b[1;32m   1796\u001b[0m \u001b[0;34m\u001b[0m\u001b[0m\n",
            "\u001b[0;31mValueError\u001b[0m: could not convert string to float: 'Machine Learning Scientist'"
          ]
        }
      ]
    },
    {
      "cell_type": "code",
      "source": [
        "# Find the 25th percentile\n",
        "twenty_fifth = salaries[\"Salary_USD\"].quantile(0.25)\n",
        "\n",
        "# Save the median\n",
        "salaries_median = salaries[\"Salary_USD\"].median()\n",
        "\n",
        "# Gather the 75th percentile\n",
        "seventy_fifth = salaries[\"Salary_USD\"].quantile(0.75)\n",
        "print(twenty_fifth, salaries_median, seventy_fifth)"
      ],
      "metadata": {
        "colab": {
          "base_uri": "https://localhost:8080/"
        },
        "id": "vLrMwzNcEwKC",
        "outputId": "f02d205d-651f-4fb6-e0bb-89d8290e5dd7"
      },
      "execution_count": 25,
      "outputs": [
        {
          "output_type": "stream",
          "name": "stdout",
          "text": [
            "68748.048 104099.82 143225.1\n"
          ]
        }
      ]
    },
    {
      "cell_type": "code",
      "source": [
        "# Create salary labels\n",
        "salary_labels = [\"entry\", \"mid\", \"senior\", \"exec\"]\n",
        "\n",
        "# Create the salary ranges list\n",
        "salary_ranges = [0, twenty_fifth, salaries_median, seventy_fifth, salaries[\"Salary_USD\"].max()]\n",
        "\n",
        "# Create salary_level\n",
        "salaries[\"salary_level\"] = pd.cut(salaries[\"Salary_USD\"],\n",
        "                                  bins=salary_ranges,\n",
        "                                  labels=salary_labels)\n",
        "\n",
        "# Plot the count of salary levels at companies of different sizes\n",
        "sns.countplot(data=salaries, x=\"Company_Size\" , hue=\"salary_level\")\n",
        "plt.show()"
      ],
      "metadata": {
        "colab": {
          "base_uri": "https://localhost:8080/",
          "height": 450
        },
        "id": "IJAbIdlgHMwh",
        "outputId": "78fb6afe-403e-426f-c8fc-65e3dff53f49"
      },
      "execution_count": 26,
      "outputs": [
        {
          "output_type": "display_data",
          "data": {
            "text/plain": [
              "<Figure size 640x480 with 1 Axes>"
            ],
            "image/png": "[encoded data removed]"
          },
          "metadata": {}
        }
      ]
    },
    {
      "cell_type": "markdown",
      "source": [
        "# Generating hypotheses"
      ],
      "metadata": {
        "id": "XWoI8zjpKlI2"
      }
    },
    {
      "cell_type": "code",
      "source": [
        "# Filter for employees in the US or US\n",
        "usa_and_gb = salaries[salaries[\"Employee_Location\"].isin([\"US\", \"GB\"])]\n",
        "\n",
        "# Create a barplot of salaries by location\n",
        "sns.barplot(data=usa_and_gb, x=\"Employee_Location\", y=\"Salary_USD\")\n",
        "plt.show()"
      ],
      "metadata": {
        "colab": {
          "base_uri": "https://localhost:8080/",
          "height": 450
        },
        "id": "hRqILYPfKjfU",
        "outputId": "4fa5c100-1985-4157-a680-a9529ca10631"
      },
      "execution_count": 28,
      "outputs": [
        {
          "output_type": "display_data",
          "data": {
            "text/plain": [
              "<Figure size 640x480 with 1 Axes>"
            ],
            "image/png": "[encoded data removed]"
          },
          "metadata": {}
        }
      ]
    },
    {
      "cell_type": "code",
      "source": [
        "# Create a bar plot of salary versus company size, factoring in employment status\n",
        "sns.barplot(data=salaries, y=\"Salary_USD\", x=\"Company_Size\", hue=\"Employment_Status\")\n",
        "plt.show()"
      ],
      "metadata": {
        "colab": {
          "base_uri": "https://localhost:8080/",
          "height": 450
        },
        "id": "bO9q2uT2MFih",
        "outputId": "c8ccc3dc-6360-4318-bae7-df382d69bd35"
      },
      "execution_count": 30,
      "outputs": [
        {
          "output_type": "display_data",
          "data": {
            "text/plain": [
              "<Figure size 640x480 with 1 Axes>"
            ],
            "image/png": "[encoded data removed]"
          },
          "metadata": {}
        }
      ]
    },
    {
      "cell_type": "code",
      "source": [],
      "metadata": {
        "id": "gwy9GDqfNL1d"
      },
      "execution_count": null,
      "outputs": []
    }
  ]
}